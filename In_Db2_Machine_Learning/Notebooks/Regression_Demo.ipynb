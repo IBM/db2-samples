{
 "cells": [
  {
   "cell_type": "markdown",
   "metadata": {},
   "source": [
    "# Linear Regression with Db2 Stored Procedures"
   ]
  },
  {
   "cell_type": "markdown",
   "metadata": {},
   "source": [
    "## Contents:\n",
    "* [1. Introduction](#Introduction)\n",
    "* [2. Libraries and Modules](#Libraries-and-Modules)\n",
    "* [3. Connect to Db2](#Connect-to-Db2)\n",
    "* [4. Data exploration](#Data-exploration)\n",
    "* [5. Train/Test Split](#Train/Test-Split)\n",
    "* [6. Data transformation](#Data-transformation-after-Train/Test-Split)\n",
    "* [7. Train a linear regression model](#Train-a-linear-regression-model)\n",
    "* [8. Predict purchase amount for train and test data](#Predict-sale-prices-for-test-data)\n",
    "* [9. Evaluate Model Performance](#Evaluate-Model-Performance)"
   ]
  },
  {
   "cell_type": "markdown",
   "metadata": {},
   "source": [
    "# 1. Introduction <a class=\"anchor\" id=\"Introduction\"></a>"
   ]
  },
  {
   "cell_type": "markdown",
   "metadata": {},
   "source": [
    "Historical customer data for a fictional outdoor equipment store is used in IBM offering tutorials to train the machine learning models. The sample data is structured in rows and columns.\n",
    "\n",
    "**Feature columns**\n",
    "\n",
    "Feature columns are columns that contain the attributes on which the machine learning model will base predictions. In this historical data, there are four feature columns:\n",
    "\n",
    "GENDER: Customer gender\n",
    "\n",
    "AGE: Customer age\n",
    "\n",
    "MARITAL_STATUS: \"Married\", \"Single\", or \"Unspecified\"\n",
    "\n",
    "PROFESSION: General category of the customer's profession, such \"Hospitality\" or \"Sales\", or simply \"Other\"\n",
    "\n",
    "IS_TENT: Whether or not the customer bought a tent\n",
    "\n",
    "PRODUCT_LINE: The product category in which the customer has been most interested\n",
    "\n",
    "**Label column**\n",
    "\n",
    "PURCHASE_AMOUNT: The average amount of money the customer has spent on each visit to the store\n",
    "\n",
    "\n",
    "Link: https://dataplatform.cloud.ibm.com/exchange/public/entry/view/aa07a773f71cf1172a349f33e2028e4e"
   ]
  },
  {
   "cell_type": "markdown",
   "metadata": {},
   "source": [
    "# 2. Libraries and Modules <a class=\"anchor\" id=\"Libraries-and-Modules\"></a>"
   ]
  },
  {
   "cell_type": "code",
   "execution_count": 1,
   "metadata": {},
   "outputs": [],
   "source": [
    "import os\n",
    "import sys\n",
    "module_path = os.path.abspath(os.path.join('../lib/'))\n",
    "if module_path not in sys.path:\n",
    "    sys.path.append(module_path)\n",
    "import ibm_db\n",
    "import ibm_db_dbi\n",
    "# import ibm_db_sa\n",
    "import pandas as pd\n",
    "import matplotlib.pyplot as plt\n",
    "import numpy as np"
   ]
  },
  {
   "cell_type": "code",
   "execution_count": 2,
   "metadata": {},
   "outputs": [],
   "source": [
    "from InDBMLModules import col_to_row_organize, print_multi_result_set, connect_to_db,\\\n",
    "                            close_connection_to_db, drop_object, plot_histogram, plot_barchart,\\\n",
    "                            null_impute_most_freq, null_impute_mean, plot_pred_act\n",
    "%load_ext autoreload\n",
    "%autoreload 2"
   ]
  },
  {
   "cell_type": "markdown",
   "metadata": {},
   "source": [
    "# 3. Connect to Db2 <a class=\"anchor\" id=\"Connect-to-Db2\"></a>"
   ]
  },
  {
   "cell_type": "code",
   "execution_count": 3,
   "metadata": {},
   "outputs": [],
   "source": [
    "conn_str = \"DATABASE=in_db;\" + \\\n",
    "           \"HOSTNAME=*********************;\"+ \\\n",
    "           \"PROTOCOL=TCPIP;\"  + \\\n",
    "           \"PORT=*******;\" + \\\n",
    "           \"UID=***;\" + \\\n",
    "           \"PWD=******************;\""
   ]
  },
  {
   "cell_type": "code",
   "execution_count": 4,
   "metadata": {},
   "outputs": [
    {
     "name": "stdout",
     "output_type": "stream",
     "text": [
      "Connected to the database!\n",
      "Connection is closed.\n"
     ]
    }
   ],
   "source": [
    "ibm_db_conn, ibm_db_dbi_conn = connect_to_db(conn_str, verbose=True)\n",
    "rc = close_connection_to_db(ibm_db_conn, verbose=True)"
   ]
  },
  {
   "cell_type": "markdown",
   "metadata": {},
   "source": [
    "# 4. Data exploration <a class=\"anchor\" id=\"Data-exploration\"></a>"
   ]
  },
  {
   "cell_type": "markdown",
   "metadata": {},
   "source": [
    "## Create a special schema for this experiment "
   ]
  },
  {
   "cell_type": "code",
   "execution_count": 5,
   "metadata": {},
   "outputs": [
    {
     "name": "stdout",
     "output_type": "stream",
     "text": [
      "Pre-existing SCHEMA LINREG was not found.\n",
      "Schema LINREG was created.\n"
     ]
    }
   ],
   "source": [
    "ibm_db_conn, ibm_db_dbi_conn = connect_to_db(conn_str, verbose=False)\n",
    "\n",
    "drop_object(\"LINREG\", \"SCHEMA\", ibm_db_conn, verbose = True)\n",
    "sql =\"create schema LINREG authorization MLP\"\n",
    "stmt = ibm_db.exec_immediate(ibm_db_conn, sql)\n",
    "print(\"Schema LINREG was created.\")\n",
    "\n",
    "rc = close_connection_to_db(ibm_db_conn, verbose=False)"
   ]
  },
  {
   "cell_type": "markdown",
   "metadata": {},
   "source": [
    "## Collect statistics on the entire dataset by creating the column properties table"
   ]
  },
  {
   "cell_type": "code",
   "execution_count": 6,
   "metadata": {},
   "outputs": [
    {
     "name": "stdout",
     "output_type": "stream",
     "text": [
      "Pre-existing TABLE LINREG.GS_COL_PROP was not found.\n",
      "TABLE LINREG.GS_COL_PROP was created.\n"
     ]
    }
   ],
   "source": [
    "ibm_db_conn, ibm_db_dbi_conn = connect_to_db(conn_str, verbose=False)\n",
    "\n",
    "drop_object(\"LINREG.GS_COL_PROP\", \"TABLE\", ibm_db_conn, verbose = True)\n",
    "sql = \"\"\"CALL IDAX.COLUMN_PROPERTIES('intable=DATA.GO_SALES, outtable=LINREG.GS_COL_PROP, withstatistics=true, incolumn=ID:id; PURCHASE_AMOUNT:target')\"\"\"\n",
    "stmt = ibm_db.exec_immediate(ibm_db_conn, sql)\n",
    "print(\"TABLE LINREG.GS_COL_PROP was created.\")\n",
    "\n",
    "rc = close_connection_to_db(ibm_db_conn, verbose=False)"
   ]
  },
  {
   "cell_type": "markdown",
   "metadata": {},
   "source": [
    "## List columns with any nulls"
   ]
  },
  {
   "cell_type": "code",
   "execution_count": 7,
   "metadata": {
    "scrolled": true
   },
   "outputs": [
    {
     "name": "stdout",
     "output_type": "stream",
     "text": [
      "Column properties table fetched successfully!\n"
     ]
    },
    {
     "data": {
      "text/html": [
       "<div>\n",
       "<style scoped>\n",
       "    .dataframe tbody tr th:only-of-type {\n",
       "        vertical-align: middle;\n",
       "    }\n",
       "\n",
       "    .dataframe tbody tr th {\n",
       "        vertical-align: top;\n",
       "    }\n",
       "\n",
       "    .dataframe thead th {\n",
       "        text-align: right;\n",
       "    }\n",
       "</style>\n",
       "<table border=\"1\" class=\"dataframe\">\n",
       "  <thead>\n",
       "    <tr style=\"text-align: right;\">\n",
       "      <th></th>\n",
       "      <th>COLNO</th>\n",
       "      <th>NAME</th>\n",
       "      <th>TYPE</th>\n",
       "      <th>NUMMISSING</th>\n",
       "      <th>ALL_VALUES</th>\n",
       "      <th>NULL_PERCENTAGE</th>\n",
       "    </tr>\n",
       "  </thead>\n",
       "  <tbody>\n",
       "    <tr>\n",
       "      <th>0</th>\n",
       "      <td>1</td>\n",
       "      <td>GENDER</td>\n",
       "      <td>nom</td>\n",
       "      <td>2592</td>\n",
       "      <td>60252</td>\n",
       "      <td>4.301932</td>\n",
       "    </tr>\n",
       "    <tr>\n",
       "      <th>2</th>\n",
       "      <td>2</td>\n",
       "      <td>AGE</td>\n",
       "      <td>cont</td>\n",
       "      <td>2351</td>\n",
       "      <td>60252</td>\n",
       "      <td>3.901945</td>\n",
       "    </tr>\n",
       "    <tr>\n",
       "      <th>1</th>\n",
       "      <td>3</td>\n",
       "      <td>MARITAL_STATUS</td>\n",
       "      <td>nom</td>\n",
       "      <td>770</td>\n",
       "      <td>60252</td>\n",
       "      <td>1.277966</td>\n",
       "    </tr>\n",
       "    <tr>\n",
       "      <th>3</th>\n",
       "      <td>4</td>\n",
       "      <td>PROFESSION</td>\n",
       "      <td>nom</td>\n",
       "      <td>1516</td>\n",
       "      <td>60252</td>\n",
       "      <td>2.516099</td>\n",
       "    </tr>\n",
       "    <tr>\n",
       "      <th>4</th>\n",
       "      <td>5</td>\n",
       "      <td>IS_TENT</td>\n",
       "      <td>cont</td>\n",
       "      <td>1344</td>\n",
       "      <td>60252</td>\n",
       "      <td>2.230631</td>\n",
       "    </tr>\n",
       "    <tr>\n",
       "      <th>5</th>\n",
       "      <td>6</td>\n",
       "      <td>PRODUCT_LINE</td>\n",
       "      <td>nom</td>\n",
       "      <td>1977</td>\n",
       "      <td>60252</td>\n",
       "      <td>3.281219</td>\n",
       "    </tr>\n",
       "  </tbody>\n",
       "</table>\n",
       "</div>"
      ],
      "text/plain": [
       "   COLNO            NAME  TYPE  NUMMISSING  ALL_VALUES  NULL_PERCENTAGE\n",
       "0      1          GENDER   nom        2592       60252         4.301932\n",
       "2      2             AGE  cont        2351       60252         3.901945\n",
       "1      3  MARITAL_STATUS   nom         770       60252         1.277966\n",
       "3      4      PROFESSION   nom        1516       60252         2.516099\n",
       "4      5         IS_TENT  cont        1344       60252         2.230631\n",
       "5      6    PRODUCT_LINE   nom        1977       60252         3.281219"
      ]
     },
     "execution_count": 7,
     "metadata": {},
     "output_type": "execute_result"
    }
   ],
   "source": [
    "ibm_db_conn, ibm_db_dbi_conn = connect_to_db(conn_str, verbose=False)\n",
    "\n",
    "sql = \"select COLNO, NAME, TYPE,NUMMISSING,NUMMISSING+NUMINVALID+NUMVALID as ALL_VALUES, dec(NUMMISSING,10,2)/(dec(NUMMISSING, 10,2)+dec(NUMINVALID, 10,2)+dec(NUMVALID, 10,2))*100 as NULL_PERCENTAGE from LINREG.GS_COL_PROP where NUMMISSING > 0\"\n",
    "GS_NULL_PREC = pd.read_sql(sql,ibm_db_dbi_conn)\n",
    "print(\"Column properties table fetched successfully!\")\n",
    "    \n",
    "rc = close_connection_to_db(ibm_db_conn, verbose=False)\n",
    "GS_NULL_PREC.sort_values('COLNO')"
   ]
  },
  {
   "cell_type": "markdown",
   "metadata": {},
   "source": [
    "## Evaluate CONTINIOUS columns using RUNSTATS"
   ]
  },
  {
   "cell_type": "markdown",
   "metadata": {},
   "source": [
    "### Plot distribution based on runstats results"
   ]
  },
  {
   "cell_type": "code",
   "execution_count": 8,
   "metadata": {},
   "outputs": [
    {
     "data": {
      "image/png": "[encoded data removed]",
      "text/plain": [
       "<Figure size 720x360 with 1 Axes>"
      ]
     },
     "metadata": {
      "needs_background": "light"
     },
     "output_type": "display_data"
    }
   ],
   "source": [
    "numerical_columns = [\"AGE\"]\n",
    "plot_histogram (numerical_columns,\"DATA\",\"GO_SALES\",conn_str)"
   ]
  },
  {
   "cell_type": "markdown",
   "metadata": {},
   "source": [
    "## Evaluate NOMINAL columns using RUNSTATS"
   ]
  },
  {
   "cell_type": "markdown",
   "metadata": {},
   "source": [
    "### Plot data distribution for nominal columns"
   ]
  },
  {
   "cell_type": "code",
   "execution_count": 9,
   "metadata": {
    "scrolled": true
   },
   "outputs": [
    {
     "data": {
      "image/png": "[encoded data removed]",
      "text/plain": [
       "<Figure size 432x288 with 1 Axes>"
      ]
     },
     "metadata": {
      "needs_background": "light"
     },
     "output_type": "display_data"
    },
    {
     "data": {
      "image/png": "[encoded data removed]",
      "text/plain": [
       "<Figure size 432x288 with 1 Axes>"
      ]
     },
     "metadata": {
      "needs_background": "light"
     },
     "output_type": "display_data"
    },
    {
     "data": {
      "image/png": "[encoded data removed]",
      "text/plain": [
       "<Figure size 432x288 with 1 Axes>"
      ]
     },
     "metadata": {
      "needs_background": "light"
     },
     "output_type": "display_data"
    },
    {
     "data": {
      "image/png": "[encoded data removed]",
      "text/plain": [
       "<Figure size 432x288 with 1 Axes>"
      ]
     },
     "metadata": {
      "needs_background": "light"
     },
     "output_type": "display_data"
    },
    {
     "data": {
      "image/png": "[encoded data removed]",
      "text/plain": [
       "<Figure size 432x288 with 1 Axes>"
      ]
     },
     "metadata": {
      "needs_background": "light"
     },
     "output_type": "display_data"
    }
   ],
   "source": [
    "nominal_columns = [\"GENDER\",\"MARITAL_STATUS\",\"PROFESSION\",\"PRODUCT_LINE\",\"IS_TENT\"]\n",
    "plot_barchart (nominal_columns, \"DATA\", \"GO_SALES\", conn_str)"
   ]
  },
  {
   "cell_type": "markdown",
   "metadata": {},
   "source": [
    "## Check data skewness using SUMMARY1000 stored procedure"
   ]
  },
  {
   "cell_type": "code",
   "execution_count": 10,
   "metadata": {},
   "outputs": [
    {
     "name": "stdout",
     "output_type": "stream",
     "text": [
      "Pre-existing TABLE LINREG.GO_SALES_SUM1000 was not found.\n",
      "Pre-existing TABLE LINREG.GO_SALES_SUM1000_CHAR was not found.\n",
      "Pre-existing TABLE LINREG.GO_SALES_SUM1000_NUM was not found.\n",
      "SUM1000 tables were created.\n"
     ]
    },
    {
     "data": {
      "text/html": [
       "<div>\n",
       "<style scoped>\n",
       "    .dataframe tbody tr th:only-of-type {\n",
       "        vertical-align: middle;\n",
       "    }\n",
       "\n",
       "    .dataframe tbody tr th {\n",
       "        vertical-align: top;\n",
       "    }\n",
       "\n",
       "    .dataframe thead th {\n",
       "        text-align: right;\n",
       "    }\n",
       "</style>\n",
       "<table border=\"1\" class=\"dataframe\">\n",
       "  <thead>\n",
       "    <tr style=\"text-align: right;\">\n",
       "      <th></th>\n",
       "      <th>COLUMNNAME</th>\n",
       "      <th>SKEWNESS</th>\n",
       "    </tr>\n",
       "  </thead>\n",
       "  <tbody>\n",
       "    <tr>\n",
       "      <th>0</th>\n",
       "      <td>AGE</td>\n",
       "      <td>6.534789e-01</td>\n",
       "    </tr>\n",
       "    <tr>\n",
       "      <th>1</th>\n",
       "      <td>ID</td>\n",
       "      <td>-3.414794e-14</td>\n",
       "    </tr>\n",
       "    <tr>\n",
       "      <th>2</th>\n",
       "      <td>IS_TENT</td>\n",
       "      <td>1.135574e+00</td>\n",
       "    </tr>\n",
       "    <tr>\n",
       "      <th>3</th>\n",
       "      <td>PURCHASE_AMOUNT</td>\n",
       "      <td>-7.997931e-02</td>\n",
       "    </tr>\n",
       "  </tbody>\n",
       "</table>\n",
       "</div>"
      ],
      "text/plain": [
       "        COLUMNNAME      SKEWNESS\n",
       "0              AGE  6.534789e-01\n",
       "1               ID -3.414794e-14\n",
       "2          IS_TENT  1.135574e+00\n",
       "3  PURCHASE_AMOUNT -7.997931e-02"
      ]
     },
     "execution_count": 10,
     "metadata": {},
     "output_type": "execute_result"
    }
   ],
   "source": [
    "#  Create HOUSING_PRICES_SUM1000 table that contains whole dataset feature stats (mean, stdev, freq, etc)\n",
    "ibm_db_conn, ibm_db_dbi_conn = connect_to_db(conn_str, verbose=False)\n",
    "\n",
    "drop_object(\"LINREG.GO_SALES_SUM1000\", \"TABLE\", ibm_db_conn, verbose = True)\n",
    "drop_object(\"LINREG.GO_SALES_SUM1000_CHAR\", \"TABLE\", ibm_db_conn, verbose = True)\n",
    "drop_object(\"LINREG.GO_SALES_SUM1000_NUM\", \"TABLE\", ibm_db_conn, verbose = True)\n",
    "\n",
    "sql = \"CALL IDAX.SUMMARY1000('intable=DATA.GO_SALES,outtable=LINREG.GO_SALES_SUM1000')\"\n",
    "stmt = ibm_db.exec_immediate(ibm_db_conn, sql)\n",
    "print(\"SUM1000 tables were created.\")\n",
    "\n",
    "sql = \"select * from LINREG.GO_SALES_SUM1000_NUM\"\n",
    "GO_SALES_SUM1000_NUM = pd.read_sql(sql,ibm_db_dbi_conn)\n",
    "\n",
    "rc = close_connection_to_db(ibm_db_conn, verbose=False)\n",
    "\n",
    "GO_SALES_SUM1000_NUM[[\"COLUMNNAME\", \"SKEWNESS\"]]"
   ]
  },
  {
   "cell_type": "markdown",
   "metadata": {},
   "source": [
    "**Observation:**\n",
    "\n",
    "SKEWNESS on numerical columns is negligible."
   ]
  },
  {
   "cell_type": "markdown",
   "metadata": {},
   "source": [
    "# 5. Train/Test Split<a class=\"anchor\" id=\"Train/Test-Split\"></a>"
   ]
  },
  {
   "cell_type": "code",
   "execution_count": 11,
   "metadata": {},
   "outputs": [
    {
     "name": "stdout",
     "output_type": "stream",
     "text": [
      "Pre-existing TABLE LINREG.GSTRAIN was not found.\n",
      "Pre-existing TABLE LINREG.GSTEST was not found.\n",
      "Dataset splitting was successful!\n"
     ]
    }
   ],
   "source": [
    "ibm_db_conn, ibm_db_dbi_conn = connect_to_db(conn_str, verbose=False)\n",
    "\n",
    "drop_object(\"LINREG.GSTRAIN\", \"TABLE\", ibm_db_conn, verbose = True)\n",
    "drop_object(\"LINREG.GSTEST\", \"TABLE\", ibm_db_conn, verbose = True)\n",
    "\n",
    "sql = \"CALL IDAX.SPLIT_DATA('intable = DATA.GO_SALES, id = ID, traintable = LINREG.GSTRAIN, testtable = LINREG.GSTEST, fraction=0.8, seed=1')\"\n",
    "stmt = ibm_db.exec_immediate(ibm_db_conn, sql)\n",
    "print(\"Dataset splitting was successful!\")\n",
    "\n",
    "rc = close_connection_to_db(ibm_db_conn, verbose=False)"
   ]
  },
  {
   "cell_type": "markdown",
   "metadata": {},
   "source": [
    "# 6. Data transformation<a class=\"anchor\" id=\"Data-transformation-after-Train/Test-Split\"></a>"
   ]
  },
  {
   "cell_type": "markdown",
   "metadata": {},
   "source": [
    "## Get statistics of the train data to be used for transforming the test data"
   ]
  },
  {
   "cell_type": "markdown",
   "metadata": {},
   "source": [
    "### Create the SUMMARY1000 table for training dataset"
   ]
  },
  {
   "cell_type": "code",
   "execution_count": 12,
   "metadata": {},
   "outputs": [
    {
     "name": "stdout",
     "output_type": "stream",
     "text": [
      "Pre-existing TABLE LINREG.GSTRAIN_STATS was not found.\n",
      "Pre-existing TABLE LINREG.GSTRAIN_STATS_NUM was not found.\n",
      "Pre-existing TABLE LINREG.GSTRAIN_STATS_CHAR was not found.\n",
      "LINREG.GSTRAIN_STATS, LINREG.GSTRAIN_STATS_NUM, and LINREG.GSTRAIN_STATS_CHAR were created\n"
     ]
    }
   ],
   "source": [
    "ibm_db_conn, ibm_db_dbi_conn = connect_to_db(conn_str, verbose=False)\n",
    "\n",
    "drop_object(\"LINREG.GSTRAIN_STATS\", \"TABLE\", ibm_db_conn, verbose = True)\n",
    "drop_object(\"LINREG.GSTRAIN_STATS_NUM\", \"TABLE\", ibm_db_conn, verbose = True)\n",
    "drop_object(\"LINREG.GSTRAIN_STATS_CHAR\", \"TABLE\", ibm_db_conn, verbose = True)    \n",
    "    \n",
    "sql = \"\"\"CALL IDAX.SUMMARY1000('intable=LINREG.GSTRAIN,outtable=LINREG.GSTRAIN_STATS')\"\"\"\n",
    "stmt = ibm_db.exec_immediate(ibm_db_conn, sql)\n",
    "print(\"LINREG.GSTRAIN_STATS, LINREG.GSTRAIN_STATS_NUM, and LINREG.GSTRAIN_STATS_CHAR were created\")\n",
    "\n",
    "rc = close_connection_to_db(ibm_db_conn, verbose=False)"
   ]
  },
  {
   "cell_type": "markdown",
   "metadata": {},
   "source": [
    "## Null imputation"
   ]
  },
  {
   "cell_type": "markdown",
   "metadata": {},
   "source": [
    "### Null impute NUMERICAL columns in TRAINING data with mean"
   ]
  },
  {
   "cell_type": "code",
   "execution_count": 13,
   "metadata": {},
   "outputs": [
    {
     "name": "stdout",
     "output_type": "stream",
     "text": [
      "AGE in LINREG.GSTRAIN null imputed successfully!\n"
     ]
    }
   ],
   "source": [
    "ibm_db_conn, ibm_db_dbi_conn = connect_to_db(conn_str, verbose=False)\n",
    "   \n",
    "sql = \"\"\"CALL IDAX.IMPUTE_DATA('intable=LINREG.GSTRAIN,method=mean,inColumn=AGE');\"\"\"\n",
    "stmt = ibm_db.exec_immediate(ibm_db_conn, sql)\n",
    "print(\"AGE in LINREG.GSTRAIN null imputed successfully!\")\n",
    "    \n",
    "rc = close_connection_to_db(ibm_db_conn, verbose=False)"
   ]
  },
  {
   "cell_type": "markdown",
   "metadata": {},
   "source": [
    "### Null impute the NOMINAL columns in TRAINING with the most frequent value"
   ]
  },
  {
   "cell_type": "code",
   "execution_count": 14,
   "metadata": {},
   "outputs": [
    {
     "name": "stdout",
     "output_type": "stream",
     "text": [
      "GENDER in LINREG.GSTRAIN null imputed successfully!\n",
      "MARITAL_STATUS in LINREG.GSTRAIN null imputed successfully!\n",
      "PROFESSION in LINREG.GSTRAIN null imputed successfully!\n",
      "PRODUCT_LINE in LINREG.GSTRAIN null imputed successfully!\n",
      "IS_TENT in LINREG.GSTRAIN null imputed successfully!\n"
     ]
    }
   ],
   "source": [
    "ibm_db_conn, ibm_db_dbi_conn = connect_to_db(conn_str, verbose=False)\n",
    "\n",
    "for column in nominal_columns:\n",
    "    null_impute_most_freq (\"LINREG\", \"GSTRAIN\", column, \"GSTRAIN_STATS\",ibm_db_conn, verbose=True)\n",
    "\n",
    "rc = close_connection_to_db(ibm_db_conn, verbose=False)"
   ]
  },
  {
   "cell_type": "markdown",
   "metadata": {},
   "source": [
    "### Null impute NUMERICAL column in TEST data with mean"
   ]
  },
  {
   "cell_type": "code",
   "execution_count": 15,
   "metadata": {},
   "outputs": [
    {
     "name": "stdout",
     "output_type": "stream",
     "text": [
      "AGE in LINREG.GSTEST null imputed successfully!\n"
     ]
    }
   ],
   "source": [
    "ibm_db_conn, ibm_db_dbi_conn = connect_to_db(conn_str, verbose=False)\n",
    "\n",
    "for column in numerical_columns:\n",
    "    null_impute_mean(\"LINREG\", \"GSTEST\", column, \"GSTRAIN_STATS\",ibm_db_conn, verbose=True)\n",
    "\n",
    "rc = close_connection_to_db(ibm_db_conn, verbose=False)"
   ]
  },
  {
   "cell_type": "markdown",
   "metadata": {},
   "source": [
    "### Null impute the NOMINAL columns in TEST data with the most frequent value"
   ]
  },
  {
   "cell_type": "code",
   "execution_count": 16,
   "metadata": {},
   "outputs": [
    {
     "name": "stdout",
     "output_type": "stream",
     "text": [
      "GENDER in LINREG.GSTEST null imputed successfully!\n",
      "MARITAL_STATUS in LINREG.GSTEST null imputed successfully!\n",
      "PROFESSION in LINREG.GSTEST null imputed successfully!\n",
      "PRODUCT_LINE in LINREG.GSTEST null imputed successfully!\n",
      "IS_TENT in LINREG.GSTEST null imputed successfully!\n"
     ]
    }
   ],
   "source": [
    "ibm_db_conn, ibm_db_dbi_conn = connect_to_db(conn_str, verbose=False)\n",
    "\n",
    "for column in nominal_columns:\n",
    "    null_impute_most_freq (\"LINREG\", \"GSTEST\", column, \"GSTRAIN_STATS\",ibm_db_conn, verbose=True)\n",
    "    \n",
    "rc = close_connection_to_db(ibm_db_conn, verbose=False)"
   ]
  },
  {
   "cell_type": "markdown",
   "metadata": {},
   "source": [
    "## Standardize AGE in training data"
   ]
  },
  {
   "cell_type": "code",
   "execution_count": 17,
   "metadata": {},
   "outputs": [
    {
     "name": "stdout",
     "output_type": "stream",
     "text": [
      "Pre-existing TABLE LINREG.GSTRAIN_STD was not found.\n",
      "LINREG.GSTRAIN_STD was created and AGE column was standardized.\n"
     ]
    }
   ],
   "source": [
    "ibm_db_conn, ibm_db_dbi_conn = connect_to_db(conn_str, verbose=False)\n",
    "\n",
    "drop_object(\"LINREG.GSTRAIN_STD\", \"TABLE\", ibm_db_conn, verbose = True)\n",
    "    \n",
    "sql = \"\"\"CALL IDAX.STD_NORM('intable=LINREG.GSTRAIN, \n",
    "        incolumn=\"GENDER\":L;\"AGE\":S;\"MARITAL_STATUS\":L;\"PROFESSION\":L;\"IS_TENT\":L;\"PRODUCT_LINE\":L;\"PURCHASE_AMOUNT\":L, \n",
    "        id=ID, outtable=LINREG.GSTRAIN_STD');\"\"\"\n",
    "stmt = ibm_db.exec_immediate(ibm_db_conn, sql)\n",
    "print(\"LINREG.GSTRAIN_STD was created and AGE column was standardized.\")\n",
    "    \n",
    "rc = close_connection_to_db(ibm_db_conn, verbose=False)"
   ]
  },
  {
   "cell_type": "markdown",
   "metadata": {},
   "source": [
    "## Standardize AGE in test data"
   ]
  },
  {
   "cell_type": "code",
   "execution_count": 18,
   "metadata": {},
   "outputs": [
    {
     "name": "stdout",
     "output_type": "stream",
     "text": [
      "Pre-existing TABLE LINREG.GSTEST_STD was not found.\n",
      "Table LINREG.GSTEST_STD was created.\n",
      "AGE was standardized in test data successfully!\n"
     ]
    }
   ],
   "source": [
    "ibm_db_conn, ibm_db_dbi_conn = connect_to_db(conn_str, verbose=False)\n",
    "\n",
    "drop_object(\"LINREG.GSTEST_STD\", \"TABLE\", ibm_db_conn, verbose = True)\n",
    "    \n",
    "sql = \"CREATE TABLE LINREG.GSTEST_STD AS (SELECT * FROM LINREG.GSTEST) WITH DATA\"\n",
    "stmt = ibm_db.exec_immediate(ibm_db_conn, sql)\n",
    "print (\"Table LINREG.GSTEST_STD was created.\")\n",
    "\n",
    "sql = \"\"\"UPDATE LINREG.GSTEST_STD \n",
    "        SET AGE = ((CAST(AGE AS FLOAT) - (SELECT AVERAGE FROM LINREG.GSTRAIN_STATS_NUM WHERE COLUMNNAME='AGE'))/(SELECT STDDEV FROM LINREG.GSTRAIN_STATS_NUM WHERE COLUMNNAME='AGE'))\"\"\"\n",
    "stmt = ibm_db.exec_immediate(ibm_db_conn, sql)\n",
    "print(\"AGE was standardized in test data successfully!\")\n",
    "\n",
    "#renaming AGE to STD_AGE\n",
    "sql = \"\"\"ALTER TABLE LINREG.GSTEST_STD RENAME COLUMN AGE TO STD_AGE\"\"\"\n",
    "stmt = ibm_db.exec_immediate(ibm_db_conn, sql)\n",
    "\n",
    "rc = close_connection_to_db(ibm_db_conn, verbose=False)"
   ]
  },
  {
   "cell_type": "markdown",
   "metadata": {},
   "source": [
    "# 7. Train a linear regression model<a class=\"anchor\" id=\"Train-a-linear-regression-model\"></a>"
   ]
  },
  {
   "cell_type": "markdown",
   "metadata": {},
   "source": [
    "## Train the model"
   ]
  },
  {
   "cell_type": "code",
   "execution_count": 19,
   "metadata": {},
   "outputs": [
    {
     "name": "stdout",
     "output_type": "stream",
     "text": [
      "Pre-existing MODEL LINREG.GSLINREG was not found.\n",
      "Model trained successfully!\n"
     ]
    }
   ],
   "source": [
    "ibm_db_conn, ibm_db_dbi_conn = connect_to_db(conn_str, verbose=False)\n",
    "\n",
    "drop_object(\"LINREG.GSLINREG\", \"MODEL\", ibm_db_conn, verbose = True)\n",
    "\n",
    "sql = \"\"\"CALL IDAX.LINEAR_REGRESSION('model=LINREG.GSLINREG, intable=LINREG.GSTRAIN_STD, id=ID, \n",
    "        target= PURCHASE_AMOUNT, incolumn =GENDER;STD_AGE;MARITAL_STATUS;PROFESSION;IS_TENT;PRODUCT_LINE');\"\"\"\n",
    "stmt = ibm_db.exec_immediate(ibm_db_conn, sql)\n",
    "print(\"Model trained successfully!\")\n",
    "\n",
    "rc = close_connection_to_db(ibm_db_conn, verbose=False)"
   ]
  },
  {
   "cell_type": "markdown",
   "metadata": {},
   "source": [
    "# 8. Predict purchase amount for train and test data<a class=\"anchor\" id=\"Predict-sale-prices-for-test-data\"></a>"
   ]
  },
  {
   "cell_type": "markdown",
   "metadata": {},
   "source": [
    "## Create view GSTEST_INPUT from feature columns in GSTEST_STD"
   ]
  },
  {
   "cell_type": "code",
   "execution_count": 21,
   "metadata": {},
   "outputs": [
    {
     "name": "stdout",
     "output_type": "stream",
     "text": [
      "Pre-existing VIEW LINREG.GSTEST_INPUT was not found.\n",
      "VIEW LINREG.GSTEST_INPUT was created successfuly!\n"
     ]
    }
   ],
   "source": [
    "ibm_db_conn, ibm_db_dbi_conn = connect_to_db(conn_str, verbose=False)\n",
    "\n",
    "drop_object(\"LINREG.GSTEST_INPUT\", \"VIEW\", ibm_db_conn, verbose = True)\n",
    "\n",
    "sql = \"CREATE VIEW LINREG.GSTEST_INPUT AS (SELECT ID,GENDER,STD_AGE,MARITAL_STATUS,PROFESSION,IS_TENT,PRODUCT_LINE FROM LINREG.GSTEST_STD)\"\n",
    "stmt = ibm_db.exec_immediate(ibm_db_conn, sql)\n",
    "print(\"VIEW LINREG.GSTEST_INPUT was created successfuly!\")\n",
    "\n",
    "rc = close_connection_to_db(ibm_db_conn, verbose=False)"
   ]
  },
  {
   "cell_type": "markdown",
   "metadata": {},
   "source": [
    "## Predict purchase amounts using IDAX.PREDICT_LINEAR_REGRESSION "
   ]
  },
  {
   "cell_type": "code",
   "execution_count": 22,
   "metadata": {},
   "outputs": [
    {
     "name": "stdout",
     "output_type": "stream",
     "text": [
      "Pre-existing TABLE LINREG.GSTEST_OUTPUT was not found.\n",
      "LINREG.GSTEST_OUTPUT was created with test results.\n"
     ]
    }
   ],
   "source": [
    "ibm_db_conn, ibm_db_dbi_conn = connect_to_db(conn_str, verbose=False)\n",
    "\n",
    "drop_object(\"LINREG.GSTEST_OUTPUT\", \"TABLE\", ibm_db_conn, verbose = True)\n",
    "        \n",
    "sql = \"\"\"CALL IDAX.PREDICT_LINEAR_REGRESSION('model=LINREG.GSLINREG, intable=LINREG.GSTEST_INPUT, outtable =LINREG.GSTEST_OUTPUT, id=ID')\"\"\"\n",
    "stmt = ibm_db.exec_immediate(ibm_db_conn, sql)\n",
    "print(\"LINREG.GSTEST_OUTPUT was created with test results.\")\n",
    "\n",
    "rc = close_connection_to_db(ibm_db_conn, verbose=False)"
   ]
  },
  {
   "cell_type": "markdown",
   "metadata": {},
   "source": [
    "## Create view GSTRAIN_INPUT from feature columns in GSTRAIN_STD"
   ]
  },
  {
   "cell_type": "code",
   "execution_count": 23,
   "metadata": {},
   "outputs": [
    {
     "name": "stdout",
     "output_type": "stream",
     "text": [
      "Pre-existing VIEW LINREG.GSTRAIN_INPUT was not found.\n",
      "VIEW LINREG.GSTRAIN_INPUT was created successfuly!\n"
     ]
    }
   ],
   "source": [
    "ibm_db_conn, ibm_db_dbi_conn = connect_to_db(conn_str, verbose=False)\n",
    "\n",
    "drop_object(\"LINREG.GSTRAIN_INPUT\", \"VIEW\", ibm_db_conn, verbose = True)\n",
    "\n",
    "sql = \"CREATE VIEW LINREG.GSTRAIN_INPUT AS (SELECT ID,GENDER,STD_AGE,MARITAL_STATUS,PROFESSION,IS_TENT,PRODUCT_LINE FROM LINREG.GSTRAIN_STD)\"\n",
    "stmt = ibm_db.exec_immediate(ibm_db_conn, sql)\n",
    "print(\"VIEW LINREG.GSTRAIN_INPUT was created successfuly!\")\n",
    "\n",
    "rc = close_connection_to_db(ibm_db_conn, verbose=False)"
   ]
  },
  {
   "cell_type": "markdown",
   "metadata": {},
   "source": [
    "## Predict purchase amounts using IDAX.PREDICT_LINEAR_REGRESSION "
   ]
  },
  {
   "cell_type": "code",
   "execution_count": 24,
   "metadata": {},
   "outputs": [
    {
     "name": "stdout",
     "output_type": "stream",
     "text": [
      "Pre-existing TABLE LINREG.GSTRAIN_OUTPUT was not found.\n",
      "LINREG.GSTEST_OUTPUT was created with train results.\n"
     ]
    }
   ],
   "source": [
    "ibm_db_conn, ibm_db_dbi_conn = connect_to_db(conn_str, verbose=False)\n",
    "\n",
    "drop_object(\"LINREG.GSTRAIN_OUTPUT\", \"TABLE\", ibm_db_conn, verbose = True)\n",
    "        \n",
    "sql = \"\"\"CALL IDAX.PREDICT_LINEAR_REGRESSION('model=LINREG.GSLINREG, intable=LINREG.GSTRAIN_INPUT, outtable =LINREG.GSTRAIN_OUTPUT, id=ID')\"\"\"\n",
    "stmt = ibm_db.exec_immediate(ibm_db_conn, sql)\n",
    "print(\"LINREG.GSTEST_OUTPUT was created with train results.\")\n",
    "\n",
    "rc = close_connection_to_db(ibm_db_conn, verbose=False)"
   ]
  },
  {
   "cell_type": "markdown",
   "metadata": {},
   "source": [
    "# 9. Evaluate Model Performance<a class=\"anchor\" id=\"Evaluate-Model-Performance\"></a>"
   ]
  },
  {
   "cell_type": "markdown",
   "metadata": {},
   "source": [
    "## Evaluate model performance on TRAINING data"
   ]
  },
  {
   "cell_type": "code",
   "execution_count": 25,
   "metadata": {},
   "outputs": [
    {
     "name": "stdout",
     "output_type": "stream",
     "text": [
      "Training performance: \n",
      "{'MSE': 98.36862842452432}\n",
      "{'MAE': 7.5297574998766}\n"
     ]
    }
   ],
   "source": [
    "ibm_db_conn, ibm_db_dbi_conn = connect_to_db(conn_str, verbose=False)\n",
    "\n",
    "print(\"Training performance: \")\n",
    "sql = \"\"\"CALL IDAX.MSE('intable= LINREG.GSTRAIN_STD, id = ID, target = PURCHASE_AMOUNT, resulttable=LINREG.GSTRAIN_OUTPUT, resultid=ID, resulttarget=PURCHASE_AMOUNT')\"\"\"\n",
    "print_multi_result_set(ibm_db_conn, sql)\n",
    "sql = \"\"\"CALL IDAX.MAE('intable= LINREG.GSTRAIN_STD, id = ID, target = PURCHASE_AMOUNT, resulttable=LINREG.GSTRAIN_OUTPUT, resultid=ID, resulttarget=PURCHASE_AMOUNT')\"\"\"\n",
    "print_multi_result_set(ibm_db_conn, sql)\n",
    "\n",
    "rc = close_connection_to_db(ibm_db_conn, verbose=False)"
   ]
  },
  {
   "cell_type": "markdown",
   "metadata": {},
   "source": [
    "## Evaluate model performance on TEST data"
   ]
  },
  {
   "cell_type": "code",
   "execution_count": 26,
   "metadata": {},
   "outputs": [
    {
     "name": "stdout",
     "output_type": "stream",
     "text": [
      "Test performance: \n",
      "{'MSE': 97.53595615684684}\n",
      "{'MAE': 7.461251686160011}\n"
     ]
    }
   ],
   "source": [
    "ibm_db_conn, ibm_db_dbi_conn = connect_to_db(conn_str, verbose=False)\n",
    "\n",
    "print(\"Test performance: \")\n",
    "sql = \"\"\"CALL IDAX.MSE('intable= LINREG.GSTEST_STD, id = ID, target = PURCHASE_AMOUNT, resulttable=LINREG.GSTEST_OUTPUT, resultid=ID, resulttarget=PURCHASE_AMOUNT')\"\"\"\n",
    "print_multi_result_set(ibm_db_conn, sql)\n",
    "sql = \"\"\"CALL IDAX.MAE('intable= LINREG.GSTEST_STD, id = ID, target = PURCHASE_AMOUNT, resulttable=LINREG.GSTEST_OUTPUT, resultid=ID, resulttarget=PURCHASE_AMOUNT')\"\"\"\n",
    "print_multi_result_set(ibm_db_conn, sql)\n",
    "\n",
    "rc = close_connection_to_db(ibm_db_conn, verbose=False)"
   ]
  },
  {
   "cell_type": "markdown",
   "metadata": {},
   "source": [
    "**Observations:**\n",
    "\n",
    "* Mean absolute error on test data is 7.46 -> Model predicts with a fairly good accuracy.\n",
    "* Performance is consistent for Training and Test datasets -> Model is not overfitting the training set."
   ]
  },
  {
   "cell_type": "markdown",
   "metadata": {},
   "source": [
    "## Visually evaluate model performance"
   ]
  },
  {
   "cell_type": "code",
   "execution_count": 27,
   "metadata": {},
   "outputs": [
    {
     "data": {
      "image/png": "[encoded data removed]",
      "text/plain": [
       "<Figure size 720x720 with 1 Axes>"
      ]
     },
     "metadata": {
      "needs_background": "light"
     },
     "output_type": "display_data"
    }
   ],
   "source": [
    "ibm_db_conn, ibm_db_dbi_conn = connect_to_db(conn_str, verbose=False)\n",
    "\n",
    "sql = \"\"\"select ACT.ID, ACT.PURCHASE_AMOUNT AS ACTUAL, PRED.PURCHASE_AMOUNT AS PREDICTION\n",
    "            from LINREG.GSTEST_STD AS ACT, LINREG.GSTEST_OUTPUT AS PRED\n",
    "            where ACT.ID = PRED.ID\"\"\"\n",
    "GSTEST_ACT_PRED = pd.read_sql(sql,ibm_db_dbi_conn)\n",
    "    \n",
    "rc = close_connection_to_db(ibm_db_conn, verbose=False)\n",
    "\n",
    "act = GSTEST_ACT_PRED.ACTUAL.values\n",
    "pred = GSTEST_ACT_PRED.PREDICTION.values\n",
    "plot_pred_act(pred,act,\"Purchase Amount Prediction Performance on Test Data\", \"Actual\", \"Prediction\")"
   ]
  },
  {
   "cell_type": "code",
   "execution_count": null,
   "metadata": {},
   "outputs": [],
   "source": []
  },
  {
   "cell_type": "code",
   "execution_count": null,
   "metadata": {},
   "outputs": [],
   "source": []
  },
  {
   "cell_type": "code",
   "execution_count": null,
   "metadata": {},
   "outputs": [],
   "source": []
  }
 ],
 "metadata": {
  "kernelspec": {
   "display_name": "Python 3",
   "language": "python",
   "name": "python3"
  },
  "language_info": {
   "codemirror_mode": {
    "name": "ipython",
    "version": 3
   },
   "file_extension": ".py",
   "mimetype": "text/x-python",
   "name": "python",
   "nbconvert_exporter": "python",
   "pygments_lexer": "ipython3",
   "version": "3.7.3"
  }
 },
 "nbformat": 4,
 "nbformat_minor": 2
}