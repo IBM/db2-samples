{
 "cells": [
  {
   "cell_type": "markdown",
   "metadata": {},
   "source": [
    "# Get the Token for Service Administrator or User"
   ]
  },
  {
   "cell_type": "markdown",
   "metadata": {},
   "source": [
    "This notebook is called by the Db2 RESTful External Py UDF.ipynb notebook that needs a token.  It creates a token for for use by a service administraor who creates and manages services or for use by users who call the services.  In a real environment this applicaiton would do some real authentication of the user before providing a token.\n",
    "\n",
    "#####  If you are looking at the REST example, make sure to start by examining the Db2 RESTful External Py UDF.ipynb notebook.\n",
    "\n",
    "### Expected Inputs, Outputs and Modifications\n",
    "\n",
    "##### INPUTS\n",
    "usertype - Notebook expects this variable to be populated with a string depending on the level of authentication expected.  It should have a value of \"admin\" or \"user\".\n",
    "\n",
    "##### OUTPUTS\n",
    "token - If the token is successfully generated, then a string token will be placed in this variable and available to the calling notebook.  If an error occurs then a value of \"TokenNotCreated\" is returned.\n",
    "\n",
    "##### MODIFICATIONS\n",
    "In the modificaitons section below you must change the values for your database server's host, port and database name, as well as the credentials for the database administrator's and service user's userid and password"
   ]
  },
  {
   "cell_type": "markdown",
   "metadata": {},
   "source": [
    "### General\n",
    "Each service is associated with a single SQL statement. Authenticated users of web, mobile, or cloud applications can use these REST endpoints from any REST HTTP client without having to install any Db2 drivers.\n",
    "\n",
    "The Db2 REST server accepts an HTTP request, processes the request body, and returns results in JavaScript Object Notation (JSON).  \n",
    "\n",
    "This notebook is used as example for the db2Dean article for http://www.db2dean.com/Previous/Db2RESTdbUpdates.html\n",
    "\n",
    "You can find more information about this service at: https://www.ibm.com/support/producthub/db2/docs/content/SSEPGG_11.5.0/com.ibm.db2.luw.admin.rest.doc/doc/c_rest.html."
   ]
  },
  {
   "cell_type": "markdown",
   "metadata": {},
   "source": [
    "## Finding the Db2 RESTful Endpoint Service API Documentation\n",
    "The APIs used in this notebook are documented in the container for the endpoint.  If you are running a browser on the host containing the container, you can view the documentation using \"localhost\" host name.  If that is your case then you can view the documentaiton by pasting this  URL into your browser:  https://localhost:50050/docs  Otherwise, you would substitute the remote IP or host name if the container is on another host.  You would also change https to http if you are running the service in http mode."
   ]
  },
  {
   "cell_type": "markdown",
   "metadata": {},
   "source": [
    "## Modifications\n",
    "!!!! YOU MUST CHANGE THESE VALUES !!!\n",
    "\n",
    "Change the values of the variables below to reflect the correct connection informatin for your database and the correct credentials for the admin and service users.  "
   ]
  },
  {
   "cell_type": "code",
   "execution_count": 1,
   "metadata": {},
   "outputs": [],
   "source": [
    "dbHost=\"192.168.0.72\"\n",
    "dbName=\"SAMPLE\"\n",
    "dbPort=50000\n",
    "\n",
    "ADMINusername=\"service_admin1\"\n",
    "ADMINpassword=\"password\"\n",
    "\n",
    "USERusername=\"service_user1\"\n",
    "USERpassword=\"password\""
   ]
  },
  {
   "cell_type": "markdown",
   "metadata": {},
   "source": [
    "## Import the required programming libraries\n",
    "The requests library is the minimum required by Python to construct RESTful service calls. "
   ]
  },
  {
   "cell_type": "code",
   "execution_count": 2,
   "metadata": {},
   "outputs": [],
   "source": [
    "import requests"
   ]
  },
  {
   "cell_type": "markdown",
   "metadata": {},
   "source": [
    "## Create the Header File required for getting an authetication token \n",
    "The RESTful call to the Db2 RESTful Endpoint service is contructed and transmitted as JSON. The first part of the JSON structure is the headers that define the content type of the request."
   ]
  },
  {
   "cell_type": "code",
   "execution_count": 3,
   "metadata": {},
   "outputs": [],
   "source": [
    "headers = {\n",
    "  \"content-type\": \"application/json\"\n",
    "}"
   ]
  },
  {
   "cell_type": "markdown",
   "metadata": {},
   "source": [
    "## RESTful Host\n",
    "The next part defines where the request is sent to. It provides the location of the RESTful service for our calls.  In my case I was running this notebook on the same machine as the REST Endpoint container was running.  If you are on a different host you would need to replace \"localhost\" with the actual host name or IP.  If you created your Endpoint container using https, then you need to previx the URL with that instead of http."
   ]
  },
  {
   "cell_type": "code",
   "execution_count": 4,
   "metadata": {},
   "outputs": [],
   "source": [
    "# Use https instead of https if you installed the rest endpoint as https\n",
    "Db2RESTful = \"http://localhost:50050\""
   ]
  },
  {
   "cell_type": "markdown",
   "metadata": {},
   "source": [
    "## API Authentication Service\n",
    "Each service has its own path in the RESTful call. For authentication we need to point to the `v1/auth` service."
   ]
  },
  {
   "cell_type": "code",
   "execution_count": 5,
   "metadata": {},
   "outputs": [],
   "source": [
    "API_Auth = \"/v1/auth\""
   ]
  },
  {
   "cell_type": "markdown",
   "metadata": {},
   "source": [
    "## Authentication\n",
    "To authenticate to the RESTful service you must provide the connection information for the database you want to query along with the database userid and password. You can also provide an expiry time so that the access token that gets returned will be invalidated after that time period.  Note that the dbHost you specify here must be known inside of the Endpoint container.  \n",
    "\n",
    "\n",
    "### Determine type of user for token creation and generate the body with the needed information"
   ]
  },
  {
   "cell_type": "code",
   "execution_count": 6,
   "metadata": {},
   "outputs": [],
   "source": [
    "# Use this for stand alone testing, otherwise keep commented out\n",
    "#usertype=\"admin\""
   ]
  },
  {
   "cell_type": "code",
   "execution_count": 7,
   "metadata": {},
   "outputs": [
    {
     "name": "stdout",
     "output_type": "stream",
     "text": [
      "Creating token for the service administrator.\n"
     ]
    }
   ],
   "source": [
    "token=\"TokenNotCreated\"\n",
    "try: usertype\n",
    "except NameError: print(\"You must provide a user type\")\n",
    "\n",
    "# Simuates a significant block\n",
    "# of code to auhenticate user\n",
    "# before providing a token  \n",
    "\n",
    "if usertype == \"admin\":\n",
    "    dbusername=ADMINusername\n",
    "    dbpassword=ADMINpassword\n",
    "    print(\"Creating token for the service administrator.\")\n",
    "else:\n",
    "    dbusername=USERusername\n",
    "    dbpassword=USERpassword\n",
    "    print(\"Creating token for the service user.\")  "
   ]
  },
  {
   "cell_type": "code",
   "execution_count": 8,
   "metadata": {},
   "outputs": [],
   "source": [
    "#  Run this cell to create the body of the service call to careate a token that expires in 1 hour\n",
    "\n",
    "body = {\n",
    "  \"dbParms\": {\n",
    "    \"dbHost\": dbHost,\n",
    "    \"dbName\": dbName,\n",
    "    \"dbPort\": dbPort,\n",
    "    \"isSSLConnection\": False,\n",
    "    \"username\": dbusername,\n",
    "    \"password\": dbpassword\n",
    "  },\n",
    "  \"expiryTime\": \"1h\"\n",
    "}"
   ]
  },
  {
   "cell_type": "code",
   "execution_count": 9,
   "metadata": {},
   "outputs": [
    {
     "data": {
      "text/plain": [
       "{'dbParms': {'dbHost': '192.168.0.72',\n",
       "  'dbName': 'SAMPLE',\n",
       "  'dbPort': 50000,\n",
       "  'isSSLConnection': False,\n",
       "  'username': 'service_admin1',\n",
       "  'password': 'password'},\n",
       " 'expiryTime': '1h'}"
      ]
     },
     "execution_count": 9,
     "metadata": {},
     "output_type": "execute_result"
    }
   ],
   "source": [
    "#body"
   ]
  },
  {
   "cell_type": "markdown",
   "metadata": {},
   "source": [
    "## API Service\n",
    "When communicating with the RESTful service, you must provide the name of the service that you want to interact with. In this case the authentication service is */v1/auth*.   When the cell below is run, the server will establish a connection to the database server."
   ]
  },
  {
   "cell_type": "code",
   "execution_count": 10,
   "metadata": {},
   "outputs": [],
   "source": [
    "try:\n",
    "    response = requests.post(\"{}{}\".format(Db2RESTful,API_Auth), headers=headers, json=body)\n",
    "except Exception as e:\n",
    "    print(\"Unable to call RESTful service. Error={}\".format(repr(e)))"
   ]
  },
  {
   "cell_type": "markdown",
   "metadata": {},
   "source": [
    "A response code of 200 means that the authentication worked properly, otherwise the error that was generated is printed."
   ]
  },
  {
   "cell_type": "markdown",
   "metadata": {},
   "source": [
    "The response includes a connection token that is reused throughout the rest of this lab. It ensures secure a connection without requiring that you reenter a userid and password with each request.  "
   ]
  },
  {
   "cell_type": "code",
   "execution_count": 11,
   "metadata": {},
   "outputs": [
    {
     "name": "stdout",
     "output_type": "stream",
     "text": [
      "Status of token request.  200=Success\n"
     ]
    }
   ],
   "source": [
    "print(\"Status of token request.  200=Success\")\n",
    "try:\n",
    "    if (response.status_code == 200):\n",
    "        token = response.json()[\"token\"]\n",
    "#  print(\"Token: {}\".format(token))\n",
    "    else: \n",
    "        print(response.json())\n",
    "        print(response)\n",
    "        print(response.status_code)\n",
    "except Exception as e:\n",
    "    print(\"Call to get Token Failed\")"
   ]
  },
  {
   "cell_type": "code",
   "execution_count": null,
   "metadata": {},
   "outputs": [],
   "source": [
    "print(token)"
   ]
  },
  {
   "cell_type": "markdown",
   "metadata": {},
   "source": [
    "At this point you can copy the above token to the clip board and paste it into the next notebook."
   ]
  }
 ],
 "metadata": {
  "kernelspec": {
   "display_name": "Python 3",
   "language": "python",
   "name": "python3"
  },
  "language_info": {
   "codemirror_mode": {
    "name": "ipython",
    "version": 3
   },
   "file_extension": ".py",
   "mimetype": "text/x-python",
   "name": "python",
   "nbconvert_exporter": "python",
   "pygments_lexer": "ipython3",
   "version": "3.7.3"
  }
 },
 "nbformat": 4,
 "nbformat_minor": 4
}
