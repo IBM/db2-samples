{
 "cells": [
  {
   "cell_type": "markdown",
   "metadata": {},
   "source": [
    "# Prepare the database for the REST Service Examples"
   ]
  },
  {
   "cell_type": "markdown",
   "metadata": {},
   "source": [
    "This notebook prepares the database for creating and running the rest services shown in the Db2 RESTful External Py UDF.ipynb notebook.  It does things like creating roles and granting permissions.  It uses the Db2 Magic commands to interact with the database.  You can see how to install and use Db2 Magic at this repo:  https://github.com/IBM/db2-jupyter\n",
    "\n",
    "#####  If you are looking at the REST example, make sure to start by examining the Db2 RESTful External Py UDF.ipynb notebook."
   ]
  },
  {
   "cell_type": "markdown",
   "metadata": {},
   "source": [
    "Conversly, you can execute the SQL/DDL shown here in your favorite Db2 client if this all seems like too much trouble.  "
   ]
  },
  {
   "cell_type": "markdown",
   "metadata": {},
   "source": [
    "## Run the notebook to set up Db2 Magic"
   ]
  },
  {
   "cell_type": "code",
   "execution_count": null,
   "metadata": {},
   "outputs": [],
   "source": [
    "!wget https://raw.githubusercontent.com/IBM/db2-jupyter/master/db2.ipynb"
   ]
  },
  {
   "cell_type": "code",
   "execution_count": 1,
   "metadata": {},
   "outputs": [
    {
     "name": "stdout",
     "output_type": "stream",
     "text": [
      "Warning: PANDAS level does not support Db2 typing which will can increase memory usage.\n",
      "         Install PANDAS version 1.3+ for more efficient dataframe creation.\n",
      "Warning: On OSX you need to pip install the multiprocess package if you want\n",
      "         parallelism to work.\n",
      "Warning: Parallelism is unavailable and THREADS option will be ignored.\n",
      "         Install MULTIPROCESSING/MULTIPROCESS(OSX) if you want allow\n",
      "         multiple SQL threads to run in parallel.\n",
      "Db2 Extensions Loaded.\n"
     ]
    }
   ],
   "source": [
    "# This is the newest notebook and has graphing capabilities\n",
    "%run \"db2 (4).ipynb\""
   ]
  },
  {
   "cell_type": "markdown",
   "metadata": {},
   "source": [
    "### Connect to the Database"
   ]
  },
  {
   "cell_type": "markdown",
   "metadata": {},
   "source": [
    "Connect with a user with DBADM and SECADM authorities. Change these values to connect to your database."
   ]
  },
  {
   "cell_type": "code",
   "execution_count": 6,
   "metadata": {},
   "outputs": [],
   "source": [
    "DB=\"SAMPLE\"\n",
    "USER=\"db2inst1\"\n",
    "PW=\"ibmdb2aa\"\n",
    "HOST=\"localhost\"\n",
    "PORT=50000"
   ]
  },
  {
   "cell_type": "code",
   "execution_count": 8,
   "metadata": {},
   "outputs": [
    {
     "name": "stdout",
     "output_type": "stream",
     "text": [
      "Connection successful.\n"
     ]
    }
   ],
   "source": [
    "%sql CONNECT TO {DB} USER {USER} USING {PW} HOST {HOST} PORT {PORT}"
   ]
  },
  {
   "cell_type": "markdown",
   "metadata": {},
   "source": [
    "##### Create the needed schemas"
   ]
  },
  {
   "cell_type": "markdown",
   "metadata": {},
   "source": [
    "EXTPY schema holds objects for the external Python UDF"
   ]
  },
  {
   "cell_type": "markdown",
   "metadata": {},
   "source": [
    "REST_SERVICES schema holds objects used by the Db2 REST Endpoint"
   ]
  },
  {
   "cell_type": "code",
   "execution_count": null,
   "metadata": {},
   "outputs": [],
   "source": [
    "%%sql\n",
    "CREATE SCHEMA EXTPY;\n",
    "CREATE SCHEMA REST_SERVICES;"
   ]
  },
  {
   "cell_type": "markdown",
   "metadata": {},
   "source": [
    "##### Create the needed roles"
   ]
  },
  {
   "cell_type": "code",
   "execution_count": 4,
   "metadata": {},
   "outputs": [
    {
     "name": "stdout",
     "output_type": "stream",
     "text": [
      "Command completed.\n"
     ]
    }
   ],
   "source": [
    "%%sql\n",
    "drop role service_admin;\n",
    "drop role service_user;\n",
    "create role service_admin;\n",
    "create role service_user;"
   ]
  },
  {
   "cell_type": "markdown",
   "metadata": {},
   "source": [
    "##### Grant the roles to users"
   ]
  },
  {
   "cell_type": "code",
   "execution_count": 5,
   "metadata": {},
   "outputs": [
    {
     "name": "stdout",
     "output_type": "stream",
     "text": [
      "Command completed.\n"
     ]
    }
   ],
   "source": [
    "%%sql\n",
    "GRANT ROLE service_admin TO USER service_admin1;\n",
    "GRANT ROLE service_user TO USER service_user1;"
   ]
  },
  {
   "cell_type": "markdown",
   "metadata": {},
   "source": [
    "### The SERVICE_ADMIN role is intended to users who create services\n",
    "\n",
    "- Min privileges to create, execute and describe services\n",
    "- Also allows GRANT and REVOKE permissions to service users\n",
    "- Allows token creation for this user\n",
    "- Allows all tables in the GOSALES schema to be selected.\n",
    "- Assumes REST_SERVICES schema already created\n"
   ]
  },
  {
   "cell_type": "code",
   "execution_count": 6,
   "metadata": {},
   "outputs": [
    {
     "name": "stdout",
     "output_type": "stream",
     "text": [
      "Command completed.\n"
     ]
    }
   ],
   "source": [
    "%%sql \n",
    "GRANT CONNECT ON DATABASE TO ROLE SERVICE_ADMIN;\n",
    "GRANT SELECTIN ON SCHEMA SYSCAT TO ROLE SERVICE_ADMIN;\n",
    "GRANT SELECT, INSERT, UPDATE, DELETE ON DB2REST.RESTSERVICE TO ROLE SERVICE_ADMIN;\n",
    "GRANT SELECT ON SYSIBM.SYSDUMMY1 TO ROLE SERVICE_ADMIN;\n",
    "GRANT ALL ON SCHEMA REST_SERVICES TO ROLE SERVICE_ADMIN WITH GRANT OPTION;\n",
    "GRANT EXECUTE ON PROCEDURE SYSPROC.ADMIN_CMD TO ROLE SERVICE_ADMIN;\n",
    "GRANT EXECUTE ON FUNCTION SYSPROC.AUTH_LIST_AUTHORITIES_FOR_AUTHID TO ROLE SERVICE_ADMIN;\n",
    "\n",
    "-- Grant authorities on tables used in any service created by this user id\n",
    "GRANT SELECTIN, INSERTIN, UPDATEIN, DELETEIN, EXECUTEIN ON SCHEMA EXTPY TO ROLE SERVICE_ADMIN;"
   ]
  },
  {
   "cell_type": "markdown",
   "metadata": {},
   "source": [
    "### The SERVICE_USER role is intended for users who execute the services\n",
    "\n",
    "- Mostly just needs authority to execue services created by others\n"
   ]
  },
  {
   "cell_type": "code",
   "execution_count": 7,
   "metadata": {},
   "outputs": [
    {
     "name": "stdout",
     "output_type": "stream",
     "text": [
      "Command completed.\n"
     ]
    }
   ],
   "source": [
    "%%sql\n",
    "GRANT CONNECT ON DATABASE TO ROLE SERVICE_USER;\n",
    "GRANT EXECUTE ON PROCEDURE SYSPROC.ADMIN_CMD TO ROLE SERVICE_USER;\n",
    "GRANT EXECUTEIN ON SCHEMA REST_SERVICES TO ROLE SERVICE_USER;\n",
    "GRANT EXECUTE ON FUNCTION SYSPROC.AUTH_LIST_AUTHORITIES_FOR_AUTHID TO ROLE SERVICE_USER;"
   ]
  },
  {
   "cell_type": "markdown",
   "metadata": {},
   "source": [
    "##### Create the table used by the UDF when executed with table data.  This is described in section 4 of the readme"
   ]
  },
  {
   "cell_type": "code",
   "execution_count": null,
   "metadata": {},
   "outputs": [],
   "source": [
    "%%sql\n",
    "drop table if exists extpy.person_features;\n",
    "CREATE TABLE extpy.person_features (\n",
    "ID INT NOT NULL GENERATED ALWAYS AS IDENTITY (START WITH 1, INCREMENT BY 1, NO CACHE),\n",
    "FEMALE FLOAT,\n",
    "MALE FLOAT,\n",
    "MARRIED FLOAT,\n",
    "SINGLE FLOAT,\n",
    "UNSPECIFIED FLOAT,\n",
    "EXECUTIVE FLOAT,\n",
    "HOSPITALITY FLOAT,\n",
    "OTHER FLOAT,\n",
    "PROFESSIONAL FLOAT,\n",
    "RETAIL FLOAT,\n",
    "RETIRED FLOAT,\n",
    "SALES FLOAT,\n",
    "STUDENT FLOAT,\n",
    "TRADES FLOAT,\n",
    "CAMPING_EQUIPMENT FLOAT,\n",
    "GOLF_EQUIPMENT FLOAT,\n",
    "MOUNTAINEERING_EQUIPMENT FLOAT,\n",
    "OUTDOOR_PROTECTION FLOAT,\n",
    "PERSONAL_ACCESSORIES FLOAT,\n",
    "AGE FLOAT,\n",
    "IS_TENT  FLOAT,\n",
    "PRIMARY KEY (ID))\n",
    "ORGANIZE BY ROW;"
   ]
  },
  {
   "cell_type": "code",
   "execution_count": 5,
   "metadata": {},
   "outputs": [
    {
     "name": "stdout",
     "output_type": "stream",
     "text": [
      "Connection closed.\n"
     ]
    }
   ],
   "source": [
    "%sql CONNECT RESET"
   ]
  },
  {
   "cell_type": "code",
   "execution_count": null,
   "metadata": {},
   "outputs": [],
   "source": []
  }
 ],
 "metadata": {
  "kernelspec": {
   "display_name": "Python 3",
   "language": "python",
   "name": "python3"
  },
  "language_info": {
   "codemirror_mode": {
    "name": "ipython",
    "version": 3
   },
   "file_extension": ".py",
   "mimetype": "text/x-python",
   "name": "python",
   "nbconvert_exporter": "python",
   "pygments_lexer": "ipython3",
   "version": "3.7.3"
  }
 },
 "nbformat": 4,
 "nbformat_minor": 4
}
