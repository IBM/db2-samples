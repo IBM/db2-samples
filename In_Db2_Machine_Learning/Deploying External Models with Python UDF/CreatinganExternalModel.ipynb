{
 "cells": [
  {
   "cell_type": "code",
   "execution_count": 1,
   "metadata": {},
   "outputs": [],
   "source": [
    "import pandas as pd\n",
    "import numpy as np\n",
    "from sklearn import preprocessing\n",
    "from sklearn.impute import SimpleImputer\n",
    "from sklearn.linear_model import LinearRegression\n",
    "from sklearn.model_selection import train_test_split\n",
    "from sklearn.metrics import mean_squared_error\n",
    "import matplotlib.pyplot as plt\n",
    "import joblib"
   ]
  },
  {
   "cell_type": "code",
   "execution_count": 2,
   "metadata": {},
   "outputs": [],
   "source": [
    "RAW_DATA = pd.read_csv(\"GoSales.csv\", header=0, encoding='latin-1')"
   ]
  },
  {
   "cell_type": "markdown",
   "metadata": {},
   "source": [
    "Historical customer data for a fictional outdoor equipment store used in Watson Studio tutorials train the machine learning models. The sample data is structured in rows and columns, and saved in a .csv file.\n",
    "\n",
    "Feature columns\n",
    "\n",
    "Feature columns are columns that contain the attributes on which the machine learning model will base predictions. In this historical data, there are four feature columns:\n",
    "\n",
    "GENDER: Customer gender\n",
    "\n",
    "AGE: Customer age\n",
    "\n",
    "MARITAL_STATUS: \"Married\", \"Single\", or \"Unspecified\"\n",
    "\n",
    "PROFESSION: General category of the customer's profession, such \"Hospitality\" or \"Sales\", or simply \"Other\"\n",
    "\n",
    "Label columns\n",
    "\n",
    "Label columns are columns that contain historical outcomes that the models will be trained predict. In this historical data, there are three label columns:\n",
    "\n",
    "IS_TENT: Whether or not the customer bought a tent\n",
    "\n",
    "PRODUCT_LINE: The product category in which the customer has been most interested\n",
    "\n",
    "PURCHASE_AMOUNT: The average amount of money the customer has spent on each visit to the store\n",
    "\n",
    "\n",
    "Link: https://dataplatform.cloud.ibm.com/exchange/public/entr/view/aa07a773f71cf1172a349f33e2028e4e\n",
    "\n"
   ]
  },
  {
   "cell_type": "code",
   "execution_count": 3,
   "metadata": {},
   "outputs": [
    {
     "data": {
      "text/html": [
       "<div>\n",
       "<style scoped>\n",
       "    .dataframe tbody tr th:only-of-type {\n",
       "        vertical-align: middle;\n",
       "    }\n",
       "\n",
       "    .dataframe tbody tr th {\n",
       "        vertical-align: top;\n",
       "    }\n",
       "\n",
       "    .dataframe thead th {\n",
       "        text-align: right;\n",
       "    }\n",
       "</style>\n",
       "<table border=\"1\" class=\"dataframe\">\n",
       "  <thead>\n",
       "    <tr style=\"text-align: right;\">\n",
       "      <th></th>\n",
       "      <th>GENDER</th>\n",
       "      <th>AGE</th>\n",
       "      <th>MARITAL_STATUS</th>\n",
       "      <th>PROFESSION</th>\n",
       "      <th>IS_TENT</th>\n",
       "      <th>PRODUCT_LINE</th>\n",
       "      <th>PURCHASE_AMOUNT</th>\n",
       "    </tr>\n",
       "  </thead>\n",
       "  <tbody>\n",
       "    <tr>\n",
       "      <th>0</th>\n",
       "      <td>M</td>\n",
       "      <td>27</td>\n",
       "      <td>Single</td>\n",
       "      <td>Professional</td>\n",
       "      <td>True</td>\n",
       "      <td>Camping Equipment</td>\n",
       "      <td>144.78</td>\n",
       "    </tr>\n",
       "    <tr>\n",
       "      <th>1</th>\n",
       "      <td>F</td>\n",
       "      <td>39</td>\n",
       "      <td>Married</td>\n",
       "      <td>Other</td>\n",
       "      <td>False</td>\n",
       "      <td>Outdoor Protection</td>\n",
       "      <td>144.83</td>\n",
       "    </tr>\n",
       "    <tr>\n",
       "      <th>2</th>\n",
       "      <td>F</td>\n",
       "      <td>39</td>\n",
       "      <td>Married</td>\n",
       "      <td>Other</td>\n",
       "      <td>False</td>\n",
       "      <td>Outdoor Protection</td>\n",
       "      <td>137.37</td>\n",
       "    </tr>\n",
       "    <tr>\n",
       "      <th>3</th>\n",
       "      <td>F</td>\n",
       "      <td>56</td>\n",
       "      <td>Unspecified</td>\n",
       "      <td>Hospitality</td>\n",
       "      <td>False</td>\n",
       "      <td>Personal Accessories</td>\n",
       "      <td>92.61</td>\n",
       "    </tr>\n",
       "    <tr>\n",
       "      <th>4</th>\n",
       "      <td>M</td>\n",
       "      <td>45</td>\n",
       "      <td>Married</td>\n",
       "      <td>Retired</td>\n",
       "      <td>False</td>\n",
       "      <td>Golf Equipment</td>\n",
       "      <td>119.04</td>\n",
       "    </tr>\n",
       "  </tbody>\n",
       "</table>\n",
       "</div>"
      ],
      "text/plain": [
       "  GENDER  AGE MARITAL_STATUS    PROFESSION  IS_TENT          PRODUCT_LINE  \\\n",
       "0      M   27         Single  Professional     True     Camping Equipment   \n",
       "1      F   39        Married         Other    False    Outdoor Protection   \n",
       "2      F   39        Married         Other    False    Outdoor Protection   \n",
       "3      F   56    Unspecified   Hospitality    False  Personal Accessories   \n",
       "4      M   45        Married       Retired    False        Golf Equipment   \n",
       "\n",
       "   PURCHASE_AMOUNT  \n",
       "0           144.78  \n",
       "1           144.83  \n",
       "2           137.37  \n",
       "3            92.61  \n",
       "4           119.04  "
      ]
     },
     "execution_count": 3,
     "metadata": {},
     "output_type": "execute_result"
    }
   ],
   "source": [
    "RAW_DATA.head()"
   ]
  },
  {
   "cell_type": "code",
   "execution_count": 4,
   "metadata": {},
   "outputs": [
    {
     "data": {
      "text/plain": [
       "(60252, 7)"
      ]
     },
     "execution_count": 4,
     "metadata": {},
     "output_type": "execute_result"
    }
   ],
   "source": [
    "RAW_DATA.shape"
   ]
  },
  {
   "cell_type": "code",
   "execution_count": 5,
   "metadata": {
    "scrolled": true
   },
   "outputs": [
    {
     "data": {
      "text/html": [
       "<div>\n",
       "<style scoped>\n",
       "    .dataframe tbody tr th:only-of-type {\n",
       "        vertical-align: middle;\n",
       "    }\n",
       "\n",
       "    .dataframe tbody tr th {\n",
       "        vertical-align: top;\n",
       "    }\n",
       "\n",
       "    .dataframe thead tr th {\n",
       "        text-align: left;\n",
       "    }\n",
       "</style>\n",
       "<table border=\"1\" class=\"dataframe\">\n",
       "  <thead>\n",
       "    <tr>\n",
       "      <th></th>\n",
       "      <th>Unique Count</th>\n",
       "      <th>dType</th>\n",
       "      <th>with Null</th>\n",
       "      <th colspan=\"7\" halign=\"left\">Describe</th>\n",
       "    </tr>\n",
       "    <tr>\n",
       "      <th></th>\n",
       "      <th>0</th>\n",
       "      <th>1</th>\n",
       "      <th>2</th>\n",
       "      <th>mean</th>\n",
       "      <th>std</th>\n",
       "      <th>min</th>\n",
       "      <th>25%</th>\n",
       "      <th>50%</th>\n",
       "      <th>75%</th>\n",
       "      <th>max</th>\n",
       "    </tr>\n",
       "  </thead>\n",
       "  <tbody>\n",
       "    <tr>\n",
       "      <th>GENDER</th>\n",
       "      <td>2</td>\n",
       "      <td>object</td>\n",
       "      <td>False</td>\n",
       "      <td>NaN</td>\n",
       "      <td>NaN</td>\n",
       "      <td>NaN</td>\n",
       "      <td>NaN</td>\n",
       "      <td>NaN</td>\n",
       "      <td>NaN</td>\n",
       "      <td>NaN</td>\n",
       "    </tr>\n",
       "    <tr>\n",
       "      <th>AGE</th>\n",
       "      <td>53</td>\n",
       "      <td>int64</td>\n",
       "      <td>False</td>\n",
       "      <td>34.187479</td>\n",
       "      <td>10.105477</td>\n",
       "      <td>17.0</td>\n",
       "      <td>26.00</td>\n",
       "      <td>33.00</td>\n",
       "      <td>41.00</td>\n",
       "      <td>69.0</td>\n",
       "    </tr>\n",
       "    <tr>\n",
       "      <th>MARITAL_STATUS</th>\n",
       "      <td>3</td>\n",
       "      <td>object</td>\n",
       "      <td>False</td>\n",
       "      <td>NaN</td>\n",
       "      <td>NaN</td>\n",
       "      <td>NaN</td>\n",
       "      <td>NaN</td>\n",
       "      <td>NaN</td>\n",
       "      <td>NaN</td>\n",
       "      <td>NaN</td>\n",
       "    </tr>\n",
       "    <tr>\n",
       "      <th>PROFESSION</th>\n",
       "      <td>9</td>\n",
       "      <td>object</td>\n",
       "      <td>False</td>\n",
       "      <td>NaN</td>\n",
       "      <td>NaN</td>\n",
       "      <td>NaN</td>\n",
       "      <td>NaN</td>\n",
       "      <td>NaN</td>\n",
       "      <td>NaN</td>\n",
       "      <td>NaN</td>\n",
       "    </tr>\n",
       "    <tr>\n",
       "      <th>IS_TENT</th>\n",
       "      <td>2</td>\n",
       "      <td>bool</td>\n",
       "      <td>False</td>\n",
       "      <td>NaN</td>\n",
       "      <td>NaN</td>\n",
       "      <td>NaN</td>\n",
       "      <td>NaN</td>\n",
       "      <td>NaN</td>\n",
       "      <td>NaN</td>\n",
       "      <td>NaN</td>\n",
       "    </tr>\n",
       "    <tr>\n",
       "      <th>PRODUCT_LINE</th>\n",
       "      <td>5</td>\n",
       "      <td>object</td>\n",
       "      <td>False</td>\n",
       "      <td>NaN</td>\n",
       "      <td>NaN</td>\n",
       "      <td>NaN</td>\n",
       "      <td>NaN</td>\n",
       "      <td>NaN</td>\n",
       "      <td>NaN</td>\n",
       "      <td>NaN</td>\n",
       "    </tr>\n",
       "    <tr>\n",
       "      <th>PURCHASE_AMOUNT</th>\n",
       "      <td>10180</td>\n",
       "      <td>float64</td>\n",
       "      <td>False</td>\n",
       "      <td>131.104340</td>\n",
       "      <td>23.086711</td>\n",
       "      <td>65.0</td>\n",
       "      <td>113.18</td>\n",
       "      <td>132.31</td>\n",
       "      <td>148.12</td>\n",
       "      <td>185.0</td>\n",
       "    </tr>\n",
       "  </tbody>\n",
       "</table>\n",
       "</div>"
      ],
      "text/plain": [
       "                Unique Count    dType with Null    Describe                   \\\n",
       "                           0        1         2        mean        std   min   \n",
       "GENDER                     2   object     False         NaN        NaN   NaN   \n",
       "AGE                       53    int64     False   34.187479  10.105477  17.0   \n",
       "MARITAL_STATUS             3   object     False         NaN        NaN   NaN   \n",
       "PROFESSION                 9   object     False         NaN        NaN   NaN   \n",
       "IS_TENT                    2     bool     False         NaN        NaN   NaN   \n",
       "PRODUCT_LINE               5   object     False         NaN        NaN   NaN   \n",
       "PURCHASE_AMOUNT        10180  float64     False  131.104340  23.086711  65.0   \n",
       "\n",
       "                                                \n",
       "                    25%     50%     75%    max  \n",
       "GENDER              NaN     NaN     NaN    NaN  \n",
       "AGE               26.00   33.00   41.00   69.0  \n",
       "MARITAL_STATUS      NaN     NaN     NaN    NaN  \n",
       "PROFESSION          NaN     NaN     NaN    NaN  \n",
       "IS_TENT             NaN     NaN     NaN    NaN  \n",
       "PRODUCT_LINE        NaN     NaN     NaN    NaN  \n",
       "PURCHASE_AMOUNT  113.18  132.31  148.12  185.0  "
      ]
     },
     "execution_count": 5,
     "metadata": {},
     "output_type": "execute_result"
    }
   ],
   "source": [
    "describe_data = pd.concat([RAW_DATA.nunique(), RAW_DATA.dtypes, RAW_DATA.isna().any(),\n",
    "                               RAW_DATA.describe().loc[['mean','std', 'min', '25%', '50%' ,'75%', 'max']].T],\n",
    "                              axis=1, sort=False, keys=['Unique Count', 'dType', 'with Null', 'Describe'])\n",
    "describe_data"
   ]
  },
  {
   "cell_type": "markdown",
   "metadata": {},
   "source": [
    "# Artificially inject nulls"
   ]
  },
  {
   "cell_type": "code",
   "execution_count": 6,
   "metadata": {},
   "outputs": [],
   "source": [
    "features = RAW_DATA.columns[0:-1]\n",
    "target =  RAW_DATA.columns[-1]"
   ]
  },
  {
   "cell_type": "code",
   "execution_count": 7,
   "metadata": {},
   "outputs": [],
   "source": [
    "from random import seed\n",
    "from random import random"
   ]
  },
  {
   "cell_type": "code",
   "execution_count": 8,
   "metadata": {},
   "outputs": [],
   "source": [
    "seed(1)"
   ]
  },
  {
   "cell_type": "code",
   "execution_count": 9,
   "metadata": {},
   "outputs": [
    {
     "name": "stdout",
     "output_type": "stream",
     "text": [
      "injecting  0.6718212205620061 % nulls in column:  GENDER\n",
      "injecting  4.237168684686163 % nulls in column:  AGE\n",
      "injecting  3.8188730948830707 % nulls in column:  MARITAL_STATUS\n",
      "injecting  1.2753451286971085 % nulls in column:  PROFESSION\n",
      "injecting  2.477175435459705 % nulls in column:  IS_TENT\n",
      "injecting  2.247455323943691 % nulls in column:  PRODUCT_LINE\n"
     ]
    }
   ],
   "source": [
    "for col in features:\n",
    "    null_portion = random()*(0.05)\n",
    "    print('injecting ', (null_portion)*100,'% nulls in column: ', col)\n",
    "    null_bool = np.random.rand(RAW_DATA.shape[0],1) > (1 - null_portion)\n",
    "    RAW_DATA[col] = RAW_DATA[[col]].mask(null_bool)"
   ]
  },
  {
   "cell_type": "code",
   "execution_count": 10,
   "metadata": {},
   "outputs": [
    {
     "data": {
      "text/html": [
       "<div>\n",
       "<style scoped>\n",
       "    .dataframe tbody tr th:only-of-type {\n",
       "        vertical-align: middle;\n",
       "    }\n",
       "\n",
       "    .dataframe tbody tr th {\n",
       "        vertical-align: top;\n",
       "    }\n",
       "\n",
       "    .dataframe thead th {\n",
       "        text-align: right;\n",
       "    }\n",
       "</style>\n",
       "<table border=\"1\" class=\"dataframe\">\n",
       "  <thead>\n",
       "    <tr style=\"text-align: right;\">\n",
       "      <th></th>\n",
       "      <th>GENDER</th>\n",
       "      <th>AGE</th>\n",
       "      <th>MARITAL_STATUS</th>\n",
       "      <th>PROFESSION</th>\n",
       "      <th>IS_TENT</th>\n",
       "      <th>PRODUCT_LINE</th>\n",
       "      <th>PURCHASE_AMOUNT</th>\n",
       "    </tr>\n",
       "  </thead>\n",
       "  <tbody>\n",
       "    <tr>\n",
       "      <th>0</th>\n",
       "      <td>M</td>\n",
       "      <td>27.0</td>\n",
       "      <td>Single</td>\n",
       "      <td>Professional</td>\n",
       "      <td>1.0</td>\n",
       "      <td>Camping Equipment</td>\n",
       "      <td>144.78</td>\n",
       "    </tr>\n",
       "    <tr>\n",
       "      <th>1</th>\n",
       "      <td>F</td>\n",
       "      <td>39.0</td>\n",
       "      <td>Married</td>\n",
       "      <td>Other</td>\n",
       "      <td>0.0</td>\n",
       "      <td>Outdoor Protection</td>\n",
       "      <td>144.83</td>\n",
       "    </tr>\n",
       "    <tr>\n",
       "      <th>2</th>\n",
       "      <td>F</td>\n",
       "      <td>39.0</td>\n",
       "      <td>Married</td>\n",
       "      <td>Other</td>\n",
       "      <td>0.0</td>\n",
       "      <td>Outdoor Protection</td>\n",
       "      <td>137.37</td>\n",
       "    </tr>\n",
       "    <tr>\n",
       "      <th>3</th>\n",
       "      <td>F</td>\n",
       "      <td>NaN</td>\n",
       "      <td>Unspecified</td>\n",
       "      <td>Hospitality</td>\n",
       "      <td>0.0</td>\n",
       "      <td>Personal Accessories</td>\n",
       "      <td>92.61</td>\n",
       "    </tr>\n",
       "    <tr>\n",
       "      <th>4</th>\n",
       "      <td>M</td>\n",
       "      <td>45.0</td>\n",
       "      <td>Married</td>\n",
       "      <td>Retired</td>\n",
       "      <td>0.0</td>\n",
       "      <td>Golf Equipment</td>\n",
       "      <td>119.04</td>\n",
       "    </tr>\n",
       "  </tbody>\n",
       "</table>\n",
       "</div>"
      ],
      "text/plain": [
       "  GENDER   AGE MARITAL_STATUS    PROFESSION  IS_TENT          PRODUCT_LINE  \\\n",
       "0      M  27.0         Single  Professional      1.0     Camping Equipment   \n",
       "1      F  39.0        Married         Other      0.0    Outdoor Protection   \n",
       "2      F  39.0        Married         Other      0.0    Outdoor Protection   \n",
       "3      F   NaN    Unspecified   Hospitality      0.0  Personal Accessories   \n",
       "4      M  45.0        Married       Retired      0.0        Golf Equipment   \n",
       "\n",
       "   PURCHASE_AMOUNT  \n",
       "0           144.78  \n",
       "1           144.83  \n",
       "2           137.37  \n",
       "3            92.61  \n",
       "4           119.04  "
      ]
     },
     "execution_count": 10,
     "metadata": {},
     "output_type": "execute_result"
    }
   ],
   "source": [
    "RAW_DATA.head()"
   ]
  },
  {
   "cell_type": "code",
   "execution_count": 11,
   "metadata": {},
   "outputs": [
    {
     "data": {
      "text/plain": [
       "GENDER             0.680475\n",
       "AGE                4.220607\n",
       "MARITAL_STATUS     3.921862\n",
       "PROFESSION         1.357631\n",
       "IS_TENT            2.386643\n",
       "PRODUCT_LINE       2.287061\n",
       "PURCHASE_AMOUNT    0.000000\n",
       "dtype: float64"
      ]
     },
     "execution_count": 11,
     "metadata": {},
     "output_type": "execute_result"
    }
   ],
   "source": [
    "# print null percentage for all columns\n",
    "RAW_DATA.isna().sum()/RAW_DATA.shape[0]*100"
   ]
  },
  {
   "cell_type": "code",
   "execution_count": 12,
   "metadata": {},
   "outputs": [],
   "source": [
    "RAW_DATA.to_csv('data/GoSales_nulls.csv')"
   ]
  },
  {
   "cell_type": "code",
   "execution_count": 13,
   "metadata": {},
   "outputs": [
    {
     "data": {
      "text/plain": [
       "Index(['AGE', 'IS_TENT'], dtype='object')"
      ]
     },
     "execution_count": 13,
     "metadata": {},
     "output_type": "execute_result"
    }
   ],
   "source": [
    "continious_features = RAW_DATA.columns[(RAW_DATA.dtypes != 'object') & (RAW_DATA.dtypes != 'bool')][0:-1]\n",
    "continious_features"
   ]
  },
  {
   "cell_type": "code",
   "execution_count": 14,
   "metadata": {},
   "outputs": [
    {
     "data": {
      "text/plain": [
       "Index(['AGE', 'IS_TENT', 'PURCHASE_AMOUNT'], dtype='object')"
      ]
     },
     "execution_count": 14,
     "metadata": {},
     "output_type": "execute_result"
    }
   ],
   "source": [
    "continious_features_target = RAW_DATA.columns[(RAW_DATA.dtypes != 'object') & (RAW_DATA.dtypes != 'bool')]\n",
    "continious_features_target"
   ]
  },
  {
   "cell_type": "code",
   "execution_count": 15,
   "metadata": {},
   "outputs": [
    {
     "data": {
      "text/plain": [
       "Index(['GENDER', 'MARITAL_STATUS', 'PROFESSION', 'PRODUCT_LINE'], dtype='object')"
      ]
     },
     "execution_count": 15,
     "metadata": {},
     "output_type": "execute_result"
    }
   ],
   "source": [
    "categorical_features = RAW_DATA.columns[(RAW_DATA.dtypes == 'object') | (RAW_DATA.dtypes == 'bool')]\n",
    "categorical_features"
   ]
  },
  {
   "cell_type": "code",
   "execution_count": 16,
   "metadata": {
    "scrolled": true
   },
   "outputs": [
    {
     "name": "stderr",
     "output_type": "stream",
     "text": [
      "/opt/miniconda3/envs/jupyterhub/lib/python3.6/site-packages/numpy/lib/histograms.py:839: RuntimeWarning: invalid value encountered in greater_equal\n",
      "  keep = (tmp_a >= first_edge)\n",
      "/opt/miniconda3/envs/jupyterhub/lib/python3.6/site-packages/numpy/lib/histograms.py:840: RuntimeWarning: invalid value encountered in less_equal\n",
      "  keep &= (tmp_a <= last_edge)\n"
     ]
    },
    {
     "data": {
      "image/png": "[encoded data removed]",
      "text/plain": [
       "<Figure size 432x288 with 1 Axes>"
      ]
     },
     "metadata": {
      "needs_background": "light"
     },
     "output_type": "display_data"
    },
    {
     "data": {
      "image/png": "[encoded data removed]",
      "text/plain": [
       "<Figure size 432x288 with 1 Axes>"
      ]
     },
     "metadata": {
      "needs_background": "light"
     },
     "output_type": "display_data"
    },
    {
     "data": {
      "image/png": "[encoded data removed]",
      "text/plain": [
       "<Figure size 432x288 with 1 Axes>"
      ]
     },
     "metadata": {
      "needs_background": "light"
     },
     "output_type": "display_data"
    }
   ],
   "source": [
    "#checking distribution of columns\n",
    "for i in continious_features_target:\n",
    "    plt.figure()\n",
    "    plt.hist(RAW_DATA[i], 100)\n",
    "    plt.xlabel(i)\n",
    "    plt.ylabel(\"Count\")"
   ]
  },
  {
   "cell_type": "code",
   "execution_count": 17,
   "metadata": {
    "scrolled": true
   },
   "outputs": [
    {
     "data": {
      "text/html": [
       "<div>\n",
       "<style scoped>\n",
       "    .dataframe tbody tr th:only-of-type {\n",
       "        vertical-align: middle;\n",
       "    }\n",
       "\n",
       "    .dataframe tbody tr th {\n",
       "        vertical-align: top;\n",
       "    }\n",
       "\n",
       "    .dataframe thead th {\n",
       "        text-align: right;\n",
       "    }\n",
       "</style>\n",
       "<table border=\"1\" class=\"dataframe\">\n",
       "  <thead>\n",
       "    <tr style=\"text-align: right;\">\n",
       "      <th></th>\n",
       "      <th>count</th>\n",
       "      <th>unique</th>\n",
       "      <th>top</th>\n",
       "      <th>freq</th>\n",
       "    </tr>\n",
       "  </thead>\n",
       "  <tbody>\n",
       "    <tr>\n",
       "      <th>GENDER</th>\n",
       "      <td>59842</td>\n",
       "      <td>2</td>\n",
       "      <td>M</td>\n",
       "      <td>31135</td>\n",
       "    </tr>\n",
       "    <tr>\n",
       "      <th>MARITAL_STATUS</th>\n",
       "      <td>57889</td>\n",
       "      <td>3</td>\n",
       "      <td>Married</td>\n",
       "      <td>29572</td>\n",
       "    </tr>\n",
       "    <tr>\n",
       "      <th>PROFESSION</th>\n",
       "      <td>59434</td>\n",
       "      <td>9</td>\n",
       "      <td>Other</td>\n",
       "      <td>24164</td>\n",
       "    </tr>\n",
       "    <tr>\n",
       "      <th>PRODUCT_LINE</th>\n",
       "      <td>58874</td>\n",
       "      <td>5</td>\n",
       "      <td>Personal Accessories</td>\n",
       "      <td>15263</td>\n",
       "    </tr>\n",
       "  </tbody>\n",
       "</table>\n",
       "</div>"
      ],
      "text/plain": [
       "                count unique                   top   freq\n",
       "GENDER          59842      2                     M  31135\n",
       "MARITAL_STATUS  57889      3               Married  29572\n",
       "PROFESSION      59434      9                 Other  24164\n",
       "PRODUCT_LINE    58874      5  Personal Accessories  15263"
      ]
     },
     "execution_count": 17,
     "metadata": {},
     "output_type": "execute_result"
    }
   ],
   "source": [
    "RAW_DATA[categorical_features].describe().T"
   ]
  },
  {
   "cell_type": "code",
   "execution_count": 18,
   "metadata": {
    "scrolled": true
   },
   "outputs": [
    {
     "data": {
      "image/png": "[encoded data removed]",
      "text/plain": [
       "<Figure size 432x288 with 1 Axes>"
      ]
     },
     "metadata": {
      "needs_background": "light"
     },
     "output_type": "display_data"
    },
    {
     "data": {
      "image/png": "[encoded data removed]",
      "text/plain": [
       "<Figure size 432x288 with 1 Axes>"
      ]
     },
     "metadata": {
      "needs_background": "light"
     },
     "output_type": "display_data"
    },
    {
     "data": {
      "image/png": "[encoded data removed]",
      "text/plain": [
       "<Figure size 432x288 with 1 Axes>"
      ]
     },
     "metadata": {
      "needs_background": "light"
     },
     "output_type": "display_data"
    },
    {
     "data": {
      "image/png": "[encoded data removed]",
      "text/plain": [
       "<Figure size 432x288 with 1 Axes>"
      ]
     },
     "metadata": {
      "needs_background": "light"
     },
     "output_type": "display_data"
    }
   ],
   "source": [
    "for c in categorical_features:\n",
    "    \n",
    "    N = RAW_DATA[c].nunique()\n",
    "    count = RAW_DATA[c].value_counts().values\n",
    "    ind = np.arange(N)    # the x locations for the groups\n",
    "    # width = 0.1       # the width of the bars: can also be len(x) sequence\n",
    "    \n",
    "    plt.figure()\n",
    "\n",
    "    p1 = plt.bar(ind, count)\n",
    "\n",
    "    plt.ylabel('Category Count')\n",
    "    plt.title(c)\n",
    "    plt.xticks(ind, RAW_DATA[c].value_counts().index)\n",
    "\n",
    "    plt.show()"
   ]
  },
  {
   "cell_type": "markdown",
   "metadata": {},
   "source": [
    "# Dataset Splitting"
   ]
  },
  {
   "cell_type": "code",
   "execution_count": 19,
   "metadata": {},
   "outputs": [],
   "source": [
    "X = RAW_DATA[RAW_DATA.columns[0:-1]]\n",
    "y = RAW_DATA[RAW_DATA.columns[-1]]"
   ]
  },
  {
   "cell_type": "code",
   "execution_count": 20,
   "metadata": {},
   "outputs": [],
   "source": [
    "X_train, X_test, y_train, y_test = train_test_split (X, y, test_size=0.20, random_state=42)"
   ]
  },
  {
   "cell_type": "markdown",
   "metadata": {},
   "source": [
    "# Data encoding\n",
    "\n",
    "## 1) Categorical columns: \n",
    "\n",
    "    a) Null imputation: create a new category\n",
    "\n",
    "    b) Encoding: encode categories to numberical values (enumerate/random/frequency)\n",
    "\n",
    "## 2) Numerical columns:\n",
    "\n",
    "    a) Null imputation: replace null with median(column)"
   ]
  },
  {
   "cell_type": "code",
   "execution_count": 21,
   "metadata": {},
   "outputs": [
    {
     "data": {
      "text/html": [
       "<style  type=\"text/css\" >\n",
       "    #T_c5af2762_d01c_11ea_a86c_17919c550552row0_col0 {\n",
       "            background-color:  #023858;\n",
       "            color:  #f1f1f1;\n",
       "        }    #T_c5af2762_d01c_11ea_a86c_17919c550552row0_col1 {\n",
       "            background-color:  #fff7fb;\n",
       "            color:  #000000;\n",
       "        }    #T_c5af2762_d01c_11ea_a86c_17919c550552row0_col2 {\n",
       "            background-color:  #d8d7e9;\n",
       "            color:  #000000;\n",
       "        }    #T_c5af2762_d01c_11ea_a86c_17919c550552row1_col0 {\n",
       "            background-color:  #fff7fb;\n",
       "            color:  #000000;\n",
       "        }    #T_c5af2762_d01c_11ea_a86c_17919c550552row1_col1 {\n",
       "            background-color:  #023858;\n",
       "            color:  #f1f1f1;\n",
       "        }    #T_c5af2762_d01c_11ea_a86c_17919c550552row1_col2 {\n",
       "            background-color:  #fff7fb;\n",
       "            color:  #000000;\n",
       "        }    #T_c5af2762_d01c_11ea_a86c_17919c550552row2_col0 {\n",
       "            background-color:  #8eb3d5;\n",
       "            color:  #000000;\n",
       "        }    #T_c5af2762_d01c_11ea_a86c_17919c550552row2_col1 {\n",
       "            background-color:  #c6cce3;\n",
       "            color:  #000000;\n",
       "        }    #T_c5af2762_d01c_11ea_a86c_17919c550552row2_col2 {\n",
       "            background-color:  #023858;\n",
       "            color:  #f1f1f1;\n",
       "        }</style><table id=\"T_c5af2762_d01c_11ea_a86c_17919c550552\" ><thead>    <tr>        <th class=\"blank level0\" ></th>        <th class=\"col_heading level0 col0\" >AGE</th>        <th class=\"col_heading level0 col1\" >IS_TENT</th>        <th class=\"col_heading level0 col2\" >PURCHASE_AMOUNT</th>    </tr></thead><tbody>\n",
       "                <tr>\n",
       "                        <th id=\"T_c5af2762_d01c_11ea_a86c_17919c550552level0_row0\" class=\"row_heading level0 row0\" >AGE</th>\n",
       "                        <td id=\"T_c5af2762_d01c_11ea_a86c_17919c550552row0_col0\" class=\"data row0 col0\" >1.000000</td>\n",
       "                        <td id=\"T_c5af2762_d01c_11ea_a86c_17919c550552row0_col1\" class=\"data row0 col1\" >-0.380318</td>\n",
       "                        <td id=\"T_c5af2762_d01c_11ea_a86c_17919c550552row0_col2\" class=\"data row0 col2\" >0.222915</td>\n",
       "            </tr>\n",
       "            <tr>\n",
       "                        <th id=\"T_c5af2762_d01c_11ea_a86c_17919c550552level0_row1\" class=\"row_heading level0 row1\" >IS_TENT</th>\n",
       "                        <td id=\"T_c5af2762_d01c_11ea_a86c_17919c550552row1_col0\" class=\"data row1 col0\" >-0.380318</td>\n",
       "                        <td id=\"T_c5af2762_d01c_11ea_a86c_17919c550552row1_col1\" class=\"data row1 col1\" >1.000000</td>\n",
       "                        <td id=\"T_c5af2762_d01c_11ea_a86c_17919c550552row1_col2\" class=\"data row1 col2\" >0.006258</td>\n",
       "            </tr>\n",
       "            <tr>\n",
       "                        <th id=\"T_c5af2762_d01c_11ea_a86c_17919c550552level0_row2\" class=\"row_heading level0 row2\" >PURCHASE_AMOUNT</th>\n",
       "                        <td id=\"T_c5af2762_d01c_11ea_a86c_17919c550552row2_col0\" class=\"data row2 col0\" >0.222915</td>\n",
       "                        <td id=\"T_c5af2762_d01c_11ea_a86c_17919c550552row2_col1\" class=\"data row2 col1\" >0.006258</td>\n",
       "                        <td id=\"T_c5af2762_d01c_11ea_a86c_17919c550552row2_col2\" class=\"data row2 col2\" >1.000000</td>\n",
       "            </tr>\n",
       "    </tbody></table>"
      ],
      "text/plain": [
       "<pandas.io.formats.style.Styler at 0x7f1f94ed16d8>"
      ]
     },
     "execution_count": 21,
     "metadata": {},
     "output_type": "execute_result"
    }
   ],
   "source": [
    "corr=RAW_DATA.corr()\n",
    "corr.style.background_gradient()"
   ]
  },
  {
   "cell_type": "markdown",
   "metadata": {},
   "source": [
    "# Null Imputation"
   ]
  },
  {
   "cell_type": "markdown",
   "metadata": {},
   "source": [
    "## Null Imputation for strings"
   ]
  },
  {
   "cell_type": "code",
   "execution_count": 22,
   "metadata": {},
   "outputs": [
    {
     "data": {
      "text/html": [
       "<div>\n",
       "<style scoped>\n",
       "    .dataframe tbody tr th:only-of-type {\n",
       "        vertical-align: middle;\n",
       "    }\n",
       "\n",
       "    .dataframe tbody tr th {\n",
       "        vertical-align: top;\n",
       "    }\n",
       "\n",
       "    .dataframe thead th {\n",
       "        text-align: right;\n",
       "    }\n",
       "</style>\n",
       "<table border=\"1\" class=\"dataframe\">\n",
       "  <thead>\n",
       "    <tr style=\"text-align: right;\">\n",
       "      <th></th>\n",
       "      <th>GENDER</th>\n",
       "      <th>MARITAL_STATUS</th>\n",
       "      <th>PROFESSION</th>\n",
       "      <th>PRODUCT_LINE</th>\n",
       "    </tr>\n",
       "  </thead>\n",
       "  <tbody>\n",
       "    <tr>\n",
       "      <th>39272</th>\n",
       "      <td>M</td>\n",
       "      <td>Single</td>\n",
       "      <td>Other</td>\n",
       "      <td>Outdoor Protection</td>\n",
       "    </tr>\n",
       "    <tr>\n",
       "      <th>34669</th>\n",
       "      <td>F</td>\n",
       "      <td>Single</td>\n",
       "      <td>Other</td>\n",
       "      <td>Outdoor Protection</td>\n",
       "    </tr>\n",
       "    <tr>\n",
       "      <th>9128</th>\n",
       "      <td>M</td>\n",
       "      <td>Married</td>\n",
       "      <td>Other</td>\n",
       "      <td>Golf Equipment</td>\n",
       "    </tr>\n",
       "    <tr>\n",
       "      <th>56277</th>\n",
       "      <td>F</td>\n",
       "      <td>Married</td>\n",
       "      <td>Sales</td>\n",
       "      <td>Outdoor Protection</td>\n",
       "    </tr>\n",
       "    <tr>\n",
       "      <th>58610</th>\n",
       "      <td>F</td>\n",
       "      <td>Married</td>\n",
       "      <td>Other</td>\n",
       "      <td>Outdoor Protection</td>\n",
       "    </tr>\n",
       "  </tbody>\n",
       "</table>\n",
       "</div>"
      ],
      "text/plain": [
       "      GENDER MARITAL_STATUS PROFESSION        PRODUCT_LINE\n",
       "39272      M         Single      Other  Outdoor Protection\n",
       "34669      F         Single      Other  Outdoor Protection\n",
       "9128       M        Married      Other      Golf Equipment\n",
       "56277      F        Married      Sales  Outdoor Protection\n",
       "58610      F        Married      Other  Outdoor Protection"
      ]
     },
     "execution_count": 22,
     "metadata": {},
     "output_type": "execute_result"
    }
   ],
   "source": [
    "X_train[categorical_features].head()"
   ]
  },
  {
   "cell_type": "code",
   "execution_count": 23,
   "metadata": {},
   "outputs": [],
   "source": [
    "X_TRAIN_T = X_train.copy()"
   ]
  },
  {
   "cell_type": "code",
   "execution_count": 24,
   "metadata": {},
   "outputs": [],
   "source": [
    "imp = SimpleImputer(strategy=\"most_frequent\")"
   ]
  },
  {
   "cell_type": "code",
   "execution_count": 25,
   "metadata": {},
   "outputs": [],
   "source": [
    "X_TRAIN_T[categorical_features] = imp.fit_transform(X_train[categorical_features])"
   ]
  },
  {
   "cell_type": "code",
   "execution_count": 26,
   "metadata": {},
   "outputs": [
    {
     "data": {
      "text/html": [
       "<div>\n",
       "<style scoped>\n",
       "    .dataframe tbody tr th:only-of-type {\n",
       "        vertical-align: middle;\n",
       "    }\n",
       "\n",
       "    .dataframe tbody tr th {\n",
       "        vertical-align: top;\n",
       "    }\n",
       "\n",
       "    .dataframe thead th {\n",
       "        text-align: right;\n",
       "    }\n",
       "</style>\n",
       "<table border=\"1\" class=\"dataframe\">\n",
       "  <thead>\n",
       "    <tr style=\"text-align: right;\">\n",
       "      <th></th>\n",
       "      <th>GENDER</th>\n",
       "      <th>MARITAL_STATUS</th>\n",
       "      <th>PROFESSION</th>\n",
       "      <th>PRODUCT_LINE</th>\n",
       "    </tr>\n",
       "  </thead>\n",
       "  <tbody>\n",
       "    <tr>\n",
       "      <th>39272</th>\n",
       "      <td>M</td>\n",
       "      <td>Single</td>\n",
       "      <td>Other</td>\n",
       "      <td>Outdoor Protection</td>\n",
       "    </tr>\n",
       "    <tr>\n",
       "      <th>34669</th>\n",
       "      <td>F</td>\n",
       "      <td>Single</td>\n",
       "      <td>Other</td>\n",
       "      <td>Outdoor Protection</td>\n",
       "    </tr>\n",
       "    <tr>\n",
       "      <th>9128</th>\n",
       "      <td>M</td>\n",
       "      <td>Married</td>\n",
       "      <td>Other</td>\n",
       "      <td>Golf Equipment</td>\n",
       "    </tr>\n",
       "    <tr>\n",
       "      <th>56277</th>\n",
       "      <td>F</td>\n",
       "      <td>Married</td>\n",
       "      <td>Sales</td>\n",
       "      <td>Outdoor Protection</td>\n",
       "    </tr>\n",
       "    <tr>\n",
       "      <th>58610</th>\n",
       "      <td>F</td>\n",
       "      <td>Married</td>\n",
       "      <td>Other</td>\n",
       "      <td>Outdoor Protection</td>\n",
       "    </tr>\n",
       "  </tbody>\n",
       "</table>\n",
       "</div>"
      ],
      "text/plain": [
       "      GENDER MARITAL_STATUS PROFESSION        PRODUCT_LINE\n",
       "39272      M         Single      Other  Outdoor Protection\n",
       "34669      F         Single      Other  Outdoor Protection\n",
       "9128       M        Married      Other      Golf Equipment\n",
       "56277      F        Married      Sales  Outdoor Protection\n",
       "58610      F        Married      Other  Outdoor Protection"
      ]
     },
     "execution_count": 26,
     "metadata": {},
     "output_type": "execute_result"
    }
   ],
   "source": [
    "X_TRAIN_T[categorical_features].head()"
   ]
  },
  {
   "cell_type": "code",
   "execution_count": 27,
   "metadata": {},
   "outputs": [],
   "source": [
    "X_TEST_T = X_test.copy()"
   ]
  },
  {
   "cell_type": "code",
   "execution_count": 28,
   "metadata": {},
   "outputs": [],
   "source": [
    "X_TEST_T[categorical_features] = imp.transform(X_test[categorical_features])"
   ]
  },
  {
   "cell_type": "markdown",
   "metadata": {},
   "source": [
    "## Null Imputation for numerical values"
   ]
  },
  {
   "cell_type": "code",
   "execution_count": 29,
   "metadata": {},
   "outputs": [
    {
     "data": {
      "text/plain": [
       "True"
      ]
     },
     "execution_count": 29,
     "metadata": {},
     "output_type": "execute_result"
    }
   ],
   "source": [
    "X_train[continious_features].isna().any().any()"
   ]
  },
  {
   "cell_type": "code",
   "execution_count": 30,
   "metadata": {},
   "outputs": [],
   "source": [
    "cont_imp = SimpleImputer(strategy=\"median\")"
   ]
  },
  {
   "cell_type": "code",
   "execution_count": 31,
   "metadata": {},
   "outputs": [],
   "source": [
    "X_TRAIN_T[continious_features] = cont_imp.fit_transform(X_train[continious_features])"
   ]
  },
  {
   "cell_type": "code",
   "execution_count": 32,
   "metadata": {},
   "outputs": [
    {
     "data": {
      "text/plain": [
       "False"
      ]
     },
     "execution_count": 32,
     "metadata": {},
     "output_type": "execute_result"
    }
   ],
   "source": [
    "X_TRAIN_T[continious_features].isna().any().any()"
   ]
  },
  {
   "cell_type": "code",
   "execution_count": 33,
   "metadata": {},
   "outputs": [],
   "source": [
    "X_TEST_T[continious_features] = cont_imp.transform(X_test[continious_features])"
   ]
  },
  {
   "cell_type": "markdown",
   "metadata": {},
   "source": [
    "# OneHot Encoding"
   ]
  },
  {
   "cell_type": "code",
   "execution_count": 34,
   "metadata": {},
   "outputs": [],
   "source": [
    "onehot_enc = preprocessing.OneHotEncoder(sparse = False)"
   ]
  },
  {
   "cell_type": "code",
   "execution_count": 35,
   "metadata": {},
   "outputs": [],
   "source": [
    "X_TRAIN_OH = onehot_enc.fit_transform(X_TRAIN_T[categorical_features])"
   ]
  },
  {
   "cell_type": "code",
   "execution_count": 36,
   "metadata": {},
   "outputs": [],
   "source": [
    "# Create a list of  OneHot encoded categories \n",
    "OH_COL = []\n",
    "for col in onehot_enc.categories_:\n",
    "    OH_COL.extend(col.tolist())"
   ]
  },
  {
   "cell_type": "code",
   "execution_count": 37,
   "metadata": {},
   "outputs": [],
   "source": [
    "X_TRAIN_OH_DF = pd.DataFrame(X_TRAIN_OH, columns = OH_COL)"
   ]
  },
  {
   "cell_type": "code",
   "execution_count": 38,
   "metadata": {
    "scrolled": true
   },
   "outputs": [],
   "source": [
    "X_TRAIN_T_OH = pd.concat([X_TRAIN_OH_DF, X_TRAIN_T[continious_features].reset_index(drop=True)], axis=1)"
   ]
  },
  {
   "cell_type": "code",
   "execution_count": 39,
   "metadata": {},
   "outputs": [
    {
     "data": {
      "text/html": [
       "<div>\n",
       "<style scoped>\n",
       "    .dataframe tbody tr th:only-of-type {\n",
       "        vertical-align: middle;\n",
       "    }\n",
       "\n",
       "    .dataframe tbody tr th {\n",
       "        vertical-align: top;\n",
       "    }\n",
       "\n",
       "    .dataframe thead th {\n",
       "        text-align: right;\n",
       "    }\n",
       "</style>\n",
       "<table border=\"1\" class=\"dataframe\">\n",
       "  <thead>\n",
       "    <tr style=\"text-align: right;\">\n",
       "      <th></th>\n",
       "      <th>F</th>\n",
       "      <th>M</th>\n",
       "      <th>Married</th>\n",
       "      <th>Single</th>\n",
       "      <th>Unspecified</th>\n",
       "      <th>Executive</th>\n",
       "      <th>Hospitality</th>\n",
       "      <th>Other</th>\n",
       "      <th>Professional</th>\n",
       "      <th>Retail</th>\n",
       "      <th>...</th>\n",
       "      <th>Sales</th>\n",
       "      <th>Student</th>\n",
       "      <th>Trades</th>\n",
       "      <th>Camping Equipment</th>\n",
       "      <th>Golf Equipment</th>\n",
       "      <th>Mountaineering Equipment</th>\n",
       "      <th>Outdoor Protection</th>\n",
       "      <th>Personal Accessories</th>\n",
       "      <th>AGE</th>\n",
       "      <th>IS_TENT</th>\n",
       "    </tr>\n",
       "  </thead>\n",
       "  <tbody>\n",
       "    <tr>\n",
       "      <th>0</th>\n",
       "      <td>0.0</td>\n",
       "      <td>1.0</td>\n",
       "      <td>0.0</td>\n",
       "      <td>1.0</td>\n",
       "      <td>0.0</td>\n",
       "      <td>0.0</td>\n",
       "      <td>0.0</td>\n",
       "      <td>1.0</td>\n",
       "      <td>0.0</td>\n",
       "      <td>0.0</td>\n",
       "      <td>...</td>\n",
       "      <td>0.0</td>\n",
       "      <td>0.0</td>\n",
       "      <td>0.0</td>\n",
       "      <td>0.0</td>\n",
       "      <td>0.0</td>\n",
       "      <td>0.0</td>\n",
       "      <td>1.0</td>\n",
       "      <td>0.0</td>\n",
       "      <td>35.0</td>\n",
       "      <td>0.0</td>\n",
       "    </tr>\n",
       "    <tr>\n",
       "      <th>1</th>\n",
       "      <td>1.0</td>\n",
       "      <td>0.0</td>\n",
       "      <td>0.0</td>\n",
       "      <td>1.0</td>\n",
       "      <td>0.0</td>\n",
       "      <td>0.0</td>\n",
       "      <td>0.0</td>\n",
       "      <td>1.0</td>\n",
       "      <td>0.0</td>\n",
       "      <td>0.0</td>\n",
       "      <td>...</td>\n",
       "      <td>0.0</td>\n",
       "      <td>0.0</td>\n",
       "      <td>0.0</td>\n",
       "      <td>0.0</td>\n",
       "      <td>0.0</td>\n",
       "      <td>0.0</td>\n",
       "      <td>1.0</td>\n",
       "      <td>0.0</td>\n",
       "      <td>35.0</td>\n",
       "      <td>0.0</td>\n",
       "    </tr>\n",
       "    <tr>\n",
       "      <th>2</th>\n",
       "      <td>0.0</td>\n",
       "      <td>1.0</td>\n",
       "      <td>1.0</td>\n",
       "      <td>0.0</td>\n",
       "      <td>0.0</td>\n",
       "      <td>0.0</td>\n",
       "      <td>0.0</td>\n",
       "      <td>1.0</td>\n",
       "      <td>0.0</td>\n",
       "      <td>0.0</td>\n",
       "      <td>...</td>\n",
       "      <td>0.0</td>\n",
       "      <td>0.0</td>\n",
       "      <td>0.0</td>\n",
       "      <td>0.0</td>\n",
       "      <td>1.0</td>\n",
       "      <td>0.0</td>\n",
       "      <td>0.0</td>\n",
       "      <td>0.0</td>\n",
       "      <td>47.0</td>\n",
       "      <td>0.0</td>\n",
       "    </tr>\n",
       "    <tr>\n",
       "      <th>3</th>\n",
       "      <td>1.0</td>\n",
       "      <td>0.0</td>\n",
       "      <td>1.0</td>\n",
       "      <td>0.0</td>\n",
       "      <td>0.0</td>\n",
       "      <td>0.0</td>\n",
       "      <td>0.0</td>\n",
       "      <td>0.0</td>\n",
       "      <td>0.0</td>\n",
       "      <td>0.0</td>\n",
       "      <td>...</td>\n",
       "      <td>1.0</td>\n",
       "      <td>0.0</td>\n",
       "      <td>0.0</td>\n",
       "      <td>0.0</td>\n",
       "      <td>0.0</td>\n",
       "      <td>0.0</td>\n",
       "      <td>1.0</td>\n",
       "      <td>0.0</td>\n",
       "      <td>49.0</td>\n",
       "      <td>0.0</td>\n",
       "    </tr>\n",
       "    <tr>\n",
       "      <th>4</th>\n",
       "      <td>1.0</td>\n",
       "      <td>0.0</td>\n",
       "      <td>1.0</td>\n",
       "      <td>0.0</td>\n",
       "      <td>0.0</td>\n",
       "      <td>0.0</td>\n",
       "      <td>0.0</td>\n",
       "      <td>1.0</td>\n",
       "      <td>0.0</td>\n",
       "      <td>0.0</td>\n",
       "      <td>...</td>\n",
       "      <td>0.0</td>\n",
       "      <td>0.0</td>\n",
       "      <td>0.0</td>\n",
       "      <td>0.0</td>\n",
       "      <td>0.0</td>\n",
       "      <td>0.0</td>\n",
       "      <td>1.0</td>\n",
       "      <td>0.0</td>\n",
       "      <td>37.0</td>\n",
       "      <td>0.0</td>\n",
       "    </tr>\n",
       "  </tbody>\n",
       "</table>\n",
       "<p>5 rows × 21 columns</p>\n",
       "</div>"
      ],
      "text/plain": [
       "     F    M  Married  Single  Unspecified  Executive  Hospitality  Other  \\\n",
       "0  0.0  1.0      0.0     1.0          0.0        0.0          0.0    1.0   \n",
       "1  1.0  0.0      0.0     1.0          0.0        0.0          0.0    1.0   \n",
       "2  0.0  1.0      1.0     0.0          0.0        0.0          0.0    1.0   \n",
       "3  1.0  0.0      1.0     0.0          0.0        0.0          0.0    0.0   \n",
       "4  1.0  0.0      1.0     0.0          0.0        0.0          0.0    1.0   \n",
       "\n",
       "   Professional  Retail  ...  Sales  Student  Trades  Camping Equipment  \\\n",
       "0           0.0     0.0  ...    0.0      0.0     0.0                0.0   \n",
       "1           0.0     0.0  ...    0.0      0.0     0.0                0.0   \n",
       "2           0.0     0.0  ...    0.0      0.0     0.0                0.0   \n",
       "3           0.0     0.0  ...    1.0      0.0     0.0                0.0   \n",
       "4           0.0     0.0  ...    0.0      0.0     0.0                0.0   \n",
       "\n",
       "   Golf Equipment  Mountaineering Equipment  Outdoor Protection  \\\n",
       "0             0.0                       0.0                 1.0   \n",
       "1             0.0                       0.0                 1.0   \n",
       "2             1.0                       0.0                 0.0   \n",
       "3             0.0                       0.0                 1.0   \n",
       "4             0.0                       0.0                 1.0   \n",
       "\n",
       "   Personal Accessories   AGE  IS_TENT  \n",
       "0                   0.0  35.0      0.0  \n",
       "1                   0.0  35.0      0.0  \n",
       "2                   0.0  47.0      0.0  \n",
       "3                   0.0  49.0      0.0  \n",
       "4                   0.0  37.0      0.0  \n",
       "\n",
       "[5 rows x 21 columns]"
      ]
     },
     "execution_count": 39,
     "metadata": {},
     "output_type": "execute_result"
    }
   ],
   "source": [
    "X_TRAIN_T_OH.head()"
   ]
  },
  {
   "cell_type": "code",
   "execution_count": 40,
   "metadata": {},
   "outputs": [
    {
     "data": {
      "text/plain": [
       "(48201, 21)"
      ]
     },
     "execution_count": 40,
     "metadata": {},
     "output_type": "execute_result"
    }
   ],
   "source": [
    "X_TRAIN_T_OH.shape"
   ]
  },
  {
   "cell_type": "code",
   "execution_count": 41,
   "metadata": {},
   "outputs": [],
   "source": [
    "X_TEST_OH = onehot_enc.transform(X_TEST_T[categorical_features])"
   ]
  },
  {
   "cell_type": "code",
   "execution_count": 42,
   "metadata": {},
   "outputs": [],
   "source": [
    "X_TEST_OH_DF = pd.DataFrame(X_TEST_OH, columns = OH_COL)"
   ]
  },
  {
   "cell_type": "code",
   "execution_count": 43,
   "metadata": {
    "scrolled": true
   },
   "outputs": [],
   "source": [
    "X_TEST_T_OH = pd.concat([X_TEST_OH_DF, X_TEST_T[continious_features].reset_index(drop=True)], axis=1)"
   ]
  },
  {
   "cell_type": "code",
   "execution_count": 44,
   "metadata": {},
   "outputs": [
    {
     "data": {
      "text/html": [
       "<div>\n",
       "<style scoped>\n",
       "    .dataframe tbody tr th:only-of-type {\n",
       "        vertical-align: middle;\n",
       "    }\n",
       "\n",
       "    .dataframe tbody tr th {\n",
       "        vertical-align: top;\n",
       "    }\n",
       "\n",
       "    .dataframe thead th {\n",
       "        text-align: right;\n",
       "    }\n",
       "</style>\n",
       "<table border=\"1\" class=\"dataframe\">\n",
       "  <thead>\n",
       "    <tr style=\"text-align: right;\">\n",
       "      <th></th>\n",
       "      <th>F</th>\n",
       "      <th>M</th>\n",
       "      <th>Married</th>\n",
       "      <th>Single</th>\n",
       "      <th>Unspecified</th>\n",
       "      <th>Executive</th>\n",
       "      <th>Hospitality</th>\n",
       "      <th>Other</th>\n",
       "      <th>Professional</th>\n",
       "      <th>Retail</th>\n",
       "      <th>...</th>\n",
       "      <th>Sales</th>\n",
       "      <th>Student</th>\n",
       "      <th>Trades</th>\n",
       "      <th>Camping Equipment</th>\n",
       "      <th>Golf Equipment</th>\n",
       "      <th>Mountaineering Equipment</th>\n",
       "      <th>Outdoor Protection</th>\n",
       "      <th>Personal Accessories</th>\n",
       "      <th>AGE</th>\n",
       "      <th>IS_TENT</th>\n",
       "    </tr>\n",
       "  </thead>\n",
       "  <tbody>\n",
       "    <tr>\n",
       "      <th>0</th>\n",
       "      <td>1.0</td>\n",
       "      <td>0.0</td>\n",
       "      <td>0.0</td>\n",
       "      <td>1.0</td>\n",
       "      <td>0.0</td>\n",
       "      <td>0.0</td>\n",
       "      <td>0.0</td>\n",
       "      <td>1.0</td>\n",
       "      <td>0.0</td>\n",
       "      <td>0.0</td>\n",
       "      <td>...</td>\n",
       "      <td>0.0</td>\n",
       "      <td>0.0</td>\n",
       "      <td>0.0</td>\n",
       "      <td>0.0</td>\n",
       "      <td>0.0</td>\n",
       "      <td>0.0</td>\n",
       "      <td>0.0</td>\n",
       "      <td>1.0</td>\n",
       "      <td>22.0</td>\n",
       "      <td>0.0</td>\n",
       "    </tr>\n",
       "    <tr>\n",
       "      <th>1</th>\n",
       "      <td>1.0</td>\n",
       "      <td>0.0</td>\n",
       "      <td>0.0</td>\n",
       "      <td>0.0</td>\n",
       "      <td>1.0</td>\n",
       "      <td>0.0</td>\n",
       "      <td>0.0</td>\n",
       "      <td>0.0</td>\n",
       "      <td>0.0</td>\n",
       "      <td>0.0</td>\n",
       "      <td>...</td>\n",
       "      <td>1.0</td>\n",
       "      <td>0.0</td>\n",
       "      <td>0.0</td>\n",
       "      <td>0.0</td>\n",
       "      <td>0.0</td>\n",
       "      <td>0.0</td>\n",
       "      <td>1.0</td>\n",
       "      <td>0.0</td>\n",
       "      <td>35.0</td>\n",
       "      <td>0.0</td>\n",
       "    </tr>\n",
       "    <tr>\n",
       "      <th>2</th>\n",
       "      <td>1.0</td>\n",
       "      <td>0.0</td>\n",
       "      <td>1.0</td>\n",
       "      <td>0.0</td>\n",
       "      <td>0.0</td>\n",
       "      <td>0.0</td>\n",
       "      <td>0.0</td>\n",
       "      <td>0.0</td>\n",
       "      <td>1.0</td>\n",
       "      <td>0.0</td>\n",
       "      <td>...</td>\n",
       "      <td>0.0</td>\n",
       "      <td>0.0</td>\n",
       "      <td>0.0</td>\n",
       "      <td>1.0</td>\n",
       "      <td>0.0</td>\n",
       "      <td>0.0</td>\n",
       "      <td>0.0</td>\n",
       "      <td>0.0</td>\n",
       "      <td>25.0</td>\n",
       "      <td>1.0</td>\n",
       "    </tr>\n",
       "    <tr>\n",
       "      <th>3</th>\n",
       "      <td>1.0</td>\n",
       "      <td>0.0</td>\n",
       "      <td>1.0</td>\n",
       "      <td>0.0</td>\n",
       "      <td>0.0</td>\n",
       "      <td>1.0</td>\n",
       "      <td>0.0</td>\n",
       "      <td>0.0</td>\n",
       "      <td>0.0</td>\n",
       "      <td>0.0</td>\n",
       "      <td>...</td>\n",
       "      <td>0.0</td>\n",
       "      <td>0.0</td>\n",
       "      <td>0.0</td>\n",
       "      <td>0.0</td>\n",
       "      <td>1.0</td>\n",
       "      <td>0.0</td>\n",
       "      <td>0.0</td>\n",
       "      <td>0.0</td>\n",
       "      <td>30.0</td>\n",
       "      <td>0.0</td>\n",
       "    </tr>\n",
       "    <tr>\n",
       "      <th>4</th>\n",
       "      <td>0.0</td>\n",
       "      <td>1.0</td>\n",
       "      <td>0.0</td>\n",
       "      <td>1.0</td>\n",
       "      <td>0.0</td>\n",
       "      <td>0.0</td>\n",
       "      <td>0.0</td>\n",
       "      <td>0.0</td>\n",
       "      <td>0.0</td>\n",
       "      <td>0.0</td>\n",
       "      <td>...</td>\n",
       "      <td>0.0</td>\n",
       "      <td>0.0</td>\n",
       "      <td>1.0</td>\n",
       "      <td>0.0</td>\n",
       "      <td>0.0</td>\n",
       "      <td>1.0</td>\n",
       "      <td>0.0</td>\n",
       "      <td>0.0</td>\n",
       "      <td>27.0</td>\n",
       "      <td>1.0</td>\n",
       "    </tr>\n",
       "  </tbody>\n",
       "</table>\n",
       "<p>5 rows × 21 columns</p>\n",
       "</div>"
      ],
      "text/plain": [
       "     F    M  Married  Single  Unspecified  Executive  Hospitality  Other  \\\n",
       "0  1.0  0.0      0.0     1.0          0.0        0.0          0.0    1.0   \n",
       "1  1.0  0.0      0.0     0.0          1.0        0.0          0.0    0.0   \n",
       "2  1.0  0.0      1.0     0.0          0.0        0.0          0.0    0.0   \n",
       "3  1.0  0.0      1.0     0.0          0.0        1.0          0.0    0.0   \n",
       "4  0.0  1.0      0.0     1.0          0.0        0.0          0.0    0.0   \n",
       "\n",
       "   Professional  Retail  ...  Sales  Student  Trades  Camping Equipment  \\\n",
       "0           0.0     0.0  ...    0.0      0.0     0.0                0.0   \n",
       "1           0.0     0.0  ...    1.0      0.0     0.0                0.0   \n",
       "2           1.0     0.0  ...    0.0      0.0     0.0                1.0   \n",
       "3           0.0     0.0  ...    0.0      0.0     0.0                0.0   \n",
       "4           0.0     0.0  ...    0.0      0.0     1.0                0.0   \n",
       "\n",
       "   Golf Equipment  Mountaineering Equipment  Outdoor Protection  \\\n",
       "0             0.0                       0.0                 0.0   \n",
       "1             0.0                       0.0                 1.0   \n",
       "2             0.0                       0.0                 0.0   \n",
       "3             1.0                       0.0                 0.0   \n",
       "4             0.0                       1.0                 0.0   \n",
       "\n",
       "   Personal Accessories   AGE  IS_TENT  \n",
       "0                   1.0  22.0      0.0  \n",
       "1                   0.0  35.0      0.0  \n",
       "2                   0.0  25.0      1.0  \n",
       "3                   0.0  30.0      0.0  \n",
       "4                   0.0  27.0      1.0  \n",
       "\n",
       "[5 rows x 21 columns]"
      ]
     },
     "execution_count": 44,
     "metadata": {},
     "output_type": "execute_result"
    }
   ],
   "source": [
    "X_TEST_T_OH.head()"
   ]
  },
  {
   "cell_type": "code",
   "execution_count": 45,
   "metadata": {},
   "outputs": [
    {
     "data": {
      "text/plain": [
       "(12051, 21)"
      ]
     },
     "execution_count": 45,
     "metadata": {},
     "output_type": "execute_result"
    }
   ],
   "source": [
    "X_TEST_T_OH.shape"
   ]
  },
  {
   "cell_type": "markdown",
   "metadata": {},
   "source": [
    "# MinMax Scale Age"
   ]
  },
  {
   "cell_type": "code",
   "execution_count": 46,
   "metadata": {},
   "outputs": [],
   "source": [
    "minmax_enc = preprocessing.MinMaxScaler(feature_range=(0, 1), copy=True)"
   ]
  },
  {
   "cell_type": "code",
   "execution_count": 47,
   "metadata": {},
   "outputs": [],
   "source": [
    "X_TRAIN_T_OH['AGE'] = minmax_enc.fit_transform(X_TRAIN_T_OH['AGE'].values.reshape(-1,1))"
   ]
  },
  {
   "cell_type": "code",
   "execution_count": 48,
   "metadata": {},
   "outputs": [
    {
     "data": {
      "text/plain": [
       "count    48201.000000\n",
       "mean         0.330082\n",
       "std          0.190521\n",
       "min          0.000000\n",
       "25%          0.192308\n",
       "50%          0.307692\n",
       "75%          0.442308\n",
       "max          1.000000\n",
       "Name: AGE, dtype: float64"
      ]
     },
     "execution_count": 48,
     "metadata": {},
     "output_type": "execute_result"
    }
   ],
   "source": [
    "X_TRAIN_T_OH['AGE'].describe()"
   ]
  },
  {
   "cell_type": "code",
   "execution_count": 49,
   "metadata": {},
   "outputs": [
    {
     "data": {
      "image/png": "[encoded data removed]",
      "text/plain": [
       "<Figure size 432x288 with 1 Axes>"
      ]
     },
     "metadata": {
      "needs_background": "light"
     },
     "output_type": "display_data"
    }
   ],
   "source": [
    "plt.hist(X_TRAIN_T_OH['AGE'], 100)\n",
    "plt.show()"
   ]
  },
  {
   "cell_type": "code",
   "execution_count": 50,
   "metadata": {},
   "outputs": [],
   "source": [
    "X_TEST_T_OH['AGE'] = minmax_enc.transform(X_TEST_T_OH['AGE'].values.reshape(-1,1))"
   ]
  },
  {
   "cell_type": "markdown",
   "metadata": {},
   "source": [
    "# Train a Linear Regression model"
   ]
  },
  {
   "cell_type": "code",
   "execution_count": 51,
   "metadata": {},
   "outputs": [
    {
     "data": {
      "text/plain": [
       "array([145.39, 134.56, 126.81, ..., 126.68, 156.38, 110.2 ])"
      ]
     },
     "execution_count": 51,
     "metadata": {},
     "output_type": "execute_result"
    }
   ],
   "source": [
    "y_train.values"
   ]
  },
  {
   "cell_type": "code",
   "execution_count": 52,
   "metadata": {},
   "outputs": [],
   "source": [
    "reg = LinearRegression().fit(X_TRAIN_T_OH, y_train)"
   ]
  },
  {
   "cell_type": "code",
   "execution_count": 53,
   "metadata": {},
   "outputs": [],
   "source": [
    "train_prediction = reg.predict(X_TRAIN_T_OH)"
   ]
  },
  {
   "cell_type": "code",
   "execution_count": 54,
   "metadata": {},
   "outputs": [
    {
     "data": {
      "text/plain": [
       "9.588894454897043"
      ]
     },
     "execution_count": 54,
     "metadata": {},
     "output_type": "execute_result"
    }
   ],
   "source": [
    "train_RMSE = np.sqrt(mean_squared_error(y_train, train_prediction))\n",
    "train_RMSE"
   ]
  },
  {
   "cell_type": "code",
   "execution_count": 55,
   "metadata": {},
   "outputs": [
    {
     "data": {
      "image/png": "[encoded data removed]",
      "text/plain": [
       "<Figure size 720x720 with 1 Axes>"
      ]
     },
     "metadata": {
      "needs_background": "light"
     },
     "output_type": "display_data"
    }
   ],
   "source": [
    "# Model performance on train data\n",
    "act = y_train\n",
    "pred = train_prediction\n",
    "plt.figure(figsize = (10,10))\n",
    "plt.scatter(act,pred,s=5)\n",
    "x = np.linspace(0, act.max(), 1000)\n",
    "y = x\n",
    "plt.plot(x,y,'k',color = 'r')\n",
    "y = 0.5*x\n",
    "plt.plot(x,y,linestyle='dashed')\n",
    "y = np.linspace(0, act.max(), 1000)\n",
    "x = 0.5*y\n",
    "plt.plot(x,y,linestyle='dashed')\n",
    "plt.title('Purchase Amount Prediction Performance on Train Data')\n",
    "plt.xlabel('Actual Price')\n",
    "plt.ylabel('Predicted Price')\n",
    "# plt.xlim(0,80000)\n",
    "# plt.ylim(0,80000)\n",
    "plt.show()"
   ]
  },
  {
   "cell_type": "code",
   "execution_count": 56,
   "metadata": {},
   "outputs": [],
   "source": [
    "test_prediction = reg.predict(X_TEST_T_OH)"
   ]
  },
  {
   "cell_type": "code",
   "execution_count": 57,
   "metadata": {},
   "outputs": [
    {
     "data": {
      "text/plain": [
       "9.489638792153643"
      ]
     },
     "execution_count": 57,
     "metadata": {},
     "output_type": "execute_result"
    }
   ],
   "source": [
    "test_RMSE = np.sqrt(mean_squared_error(y_test, test_prediction))\n",
    "test_RMSE"
   ]
  },
  {
   "cell_type": "code",
   "execution_count": 58,
   "metadata": {},
   "outputs": [
    {
     "data": {
      "text/plain": [
       "90.05324440554726"
      ]
     },
     "execution_count": 58,
     "metadata": {},
     "output_type": "execute_result"
    }
   ],
   "source": [
    "mean_squared_error(y_test, test_prediction)"
   ]
  },
  {
   "cell_type": "code",
   "execution_count": 59,
   "metadata": {},
   "outputs": [
    {
     "data": {
      "image/png": "[encoded data removed]",
      "text/plain": [
       "<Figure size 720x720 with 1 Axes>"
      ]
     },
     "metadata": {
      "needs_background": "light"
     },
     "output_type": "display_data"
    }
   ],
   "source": [
    "# Model performance on test data\n",
    "act = y_test\n",
    "pred = test_prediction\n",
    "plt.figure(figsize = (10,10))\n",
    "plt.scatter(act,pred,s=5)\n",
    "x = np.linspace(0, act.max(), 1000)\n",
    "y = x\n",
    "plt.plot(x,y,'k',color = 'r')\n",
    "y = 0.5*x\n",
    "plt.plot(x,y,linestyle='dashed')\n",
    "y = np.linspace(0, act.max(), 1000)\n",
    "x = 0.5*y\n",
    "plt.plot(x,y,linestyle='dashed')\n",
    "plt.title('Purchase Amount Prediction Performance on Test Data')\n",
    "plt.xlabel('Actual')\n",
    "plt.ylabel('Predicted')\n",
    "# plt.xlim(0,80000)\n",
    "# plt.ylim(0,80000)\n",
    "plt.show()"
   ]
  },
  {
   "cell_type": "markdown",
   "metadata": {},
   "source": [
    "# Export Model as Joblib File"
   ]
  },
  {
   "cell_type": "code",
   "execution_count": 60,
   "metadata": {},
   "outputs": [
    {
     "data": {
      "text/plain": [
       "['my_model.joblib']"
      ]
     },
     "execution_count": 60,
     "metadata": {},
     "output_type": "execute_result"
    }
   ],
   "source": [
    "joblib.dump(reg,'my_model.joblib')"
   ]
  },
  {
   "cell_type": "code",
   "execution_count": null,
   "metadata": {},
   "outputs": [],
   "source": []
  }
 ],
 "metadata": {
  "kernelspec": {
   "display_name": "Python 3",
   "language": "python",
   "name": "python3"
  },
  "language_info": {
   "codemirror_mode": {
    "name": "ipython",
    "version": 3
   },
   "file_extension": ".py",
   "mimetype": "text/x-python",
   "name": "python",
   "nbconvert_exporter": "python",
   "pygments_lexer": "ipython3",
   "version": "3.6.8"
  }
 },
 "nbformat": 4,
 "nbformat_minor": 2
}
